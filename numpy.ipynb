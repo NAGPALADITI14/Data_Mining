{
  "nbformat": 4,
  "nbformat_minor": 0,
  "metadata": {
    "colab": {
      "provenance": [],
      "authorship_tag": "ABX9TyNeZZPV86YxCCFhXJ538h9G",
      "include_colab_link": true
    },
    "kernelspec": {
      "name": "python3",
      "display_name": "Python 3"
    },
    "language_info": {
      "name": "python"
    }
  },
  "cells": [
    {
      "cell_type": "markdown",
      "metadata": {
        "id": "view-in-github",
        "colab_type": "text"
      },
      "source": [
        "<a href=\"https://colab.research.google.com/github/NAGPALADITI14/Data_Mining/blob/main/numpy.ipynb\" target=\"_parent\"><img src=\"https://colab.research.google.com/assets/colab-badge.svg\" alt=\"Open In Colab\"/></a>"
      ]
    },
    {
      "cell_type": "code",
      "execution_count": 11,
      "metadata": {
        "colab": {
          "base_uri": "https://localhost:8080/"
        },
        "id": "URwMWy7mRGvj",
        "outputId": "3d99822a-c3cd-4a2e-db02-4661935633c8"
      },
      "outputs": [
        {
          "output_type": "stream",
          "name": "stdout",
          "text": [
            "Array: [1 2 3 4 5]\n",
            "Data type: int64\n",
            "Shape: (5,)\n",
            "Number of dimensions: 1\n",
            "Total elements (size): 5\n"
          ]
        }
      ],
      "source": [
        "import numpy as np\n",
        "arr = np.array([1, 2, 3, 4, 5])\n",
        "print(\"Array:\", arr)\n",
        "print(\"Data type:\", arr.dtype)\n",
        "print(\"Shape:\", arr.shape)\n",
        "print(\"Number of dimensions:\", arr.ndim)\n",
        "print(\"Total elements (size):\", arr.size)"
      ]
    },
    {
      "cell_type": "code",
      "source": [
        "zeros_array = np.zeros((2, 3))\n",
        "ones_array = np.ones((2, 3), dtype=int)\n",
        "range_array = np.arange(0, 10, 2)\n",
        "print(\"\\nZeros array:\\n\", zeros_array)\n",
        "print(\"Ones array:\\n\", ones_array)\n",
        "print(\"Range array:\", range_array)"
      ],
      "metadata": {
        "colab": {
          "base_uri": "https://localhost:8080/"
        },
        "id": "1SMz0iZpRNAM",
        "outputId": "3693486a-a5d9-4cb3-825b-c5372a0d063d"
      },
      "execution_count": 12,
      "outputs": [
        {
          "output_type": "stream",
          "name": "stdout",
          "text": [
            "\n",
            "Zeros array:\n",
            " [[0. 0. 0.]\n",
            " [0. 0. 0.]]\n",
            "Ones array:\n",
            " [[1 1 1]\n",
            " [1 1 1]]\n",
            "Range array: [0 2 4 6 8]\n"
          ]
        }
      ]
    },
    {
      "cell_type": "code",
      "source": [
        "student_name = \"Aditi Nagpal\"\n",
        "college = \"UIET\"\n",
        "subjects = np.array([\"Math\", \"Physics\", \"Chemistry\"])\n",
        "marks = np.array([90, 92, 95])\n",
        "print(f\"\\nStudent: {student_name} from {college}\")\n",
        "print(\"Subjects:\", subjects)\n",
        "print(\"Marks:\", marks)\n",
        "print(\"\\nFirst subject:\", subjects[0])\n",
        "print(\"Last two subjects:\", subjects[-2:])\n",
        "print(\"First two marks:\", marks[:2])\n",
        "print(\"Last mark:\", marks[-1])"
      ],
      "metadata": {
        "colab": {
          "base_uri": "https://localhost:8080/"
        },
        "id": "VhhydAVPRPEg",
        "outputId": "13e30894-d5aa-4921-c5c6-1663eb8c4566"
      },
      "execution_count": 13,
      "outputs": [
        {
          "output_type": "stream",
          "name": "stdout",
          "text": [
            "\n",
            "Student: Aditi Nagpal from UIET\n",
            "Subjects: ['Math' 'Physics' 'Chemistry']\n",
            "Marks: [90 92 95]\n",
            "\n",
            "First subject: Math\n",
            "Last two subjects: ['Physics' 'Chemistry']\n",
            "First two marks: [90 92]\n",
            "Last mark: 95\n"
          ]
        }
      ]
    },
    {
      "cell_type": "code",
      "source": [
        "bonus = 5\n",
        "updated_marks = marks + bonus\n",
        "print(\"\\nMarks after adding bonus of 5:\", updated_marks)"
      ],
      "metadata": {
        "colab": {
          "base_uri": "https://localhost:8080/"
        },
        "id": "Tu1_JUgmRR0r",
        "outputId": "653cbecd-1b5f-4e94-ce18-6e472945173b"
      },
      "execution_count": 14,
      "outputs": [
        {
          "output_type": "stream",
          "name": "stdout",
          "text": [
            "\n",
            "Marks after adding bonus of 5: [ 95  97 100]\n"
          ]
        }
      ]
    },
    {
      "cell_type": "code",
      "source": [
        "print(\"\\nIterating over updated marks:\")\n",
        "for mark in updated_marks:\n",
        "  print(mark)"
      ],
      "metadata": {
        "colab": {
          "base_uri": "https://localhost:8080/"
        },
        "id": "OTEBsE11RUoW",
        "outputId": "c6d77871-718e-4eb3-8d70-fc7d49095c7f"
      },
      "execution_count": 15,
      "outputs": [
        {
          "output_type": "stream",
          "name": "stdout",
          "text": [
            "\n",
            "Iterating over updated marks:\n",
            "95\n",
            "97\n",
            "100\n"
          ]
        }
      ]
    },
    {
      "cell_type": "code",
      "source": [
        "doubled_marks = marks * 2\n",
        "total_marks = marks.sum()\n",
        "print(\"\\nDoubled Marks:\", doubled_marks)\n",
        "print(\"Total Marks:\", total_marks)"
      ],
      "metadata": {
        "colab": {
          "base_uri": "https://localhost:8080/"
        },
        "id": "WnYE_xIIRYdf",
        "outputId": "e6172e85-68a9-4ce6-9473-590df46a64ee"
      },
      "execution_count": 16,
      "outputs": [
        {
          "output_type": "stream",
          "name": "stdout",
          "text": [
            "\n",
            "Doubled Marks: [180 184 190]\n",
            "Total Marks: 277\n"
          ]
        }
      ]
    },
    {
      "cell_type": "code",
      "source": [
        "student_scores = np.array([\n",
        "[88, 92, 85],\n",
        "[78, 81, 90]\n",
        "])\n",
        "print(\"\\nStudent Scores:\\n\", student_scores)\n",
        "# Calculate the average score for each subject (column-wise mean)\n",
        "average_scores = student_scores.mean(axis=0)\n",
        "print(\"Average score per subject:\", average_scores)"
      ],
      "metadata": {
        "colab": {
          "base_uri": "https://localhost:8080/"
        },
        "id": "M_HiwVTVRbAX",
        "outputId": "7ba289fa-1e1f-4692-c752-6ac44edae4f8"
      },
      "execution_count": 17,
      "outputs": [
        {
          "output_type": "stream",
          "name": "stdout",
          "text": [
            "\n",
            "Student Scores:\n",
            " [[88 92 85]\n",
            " [78 81 90]]\n",
            "Average score per subject: [83.  86.5 87.5]\n"
          ]
        }
      ]
    }
  ]
}