{
  "nbformat": 4,
  "nbformat_minor": 0,
  "metadata": {
    "colab": {
      "provenance": [],
      "authorship_tag": "ABX9TyMLTznBNzNz64m7a3OtC+Xn",
      "include_colab_link": true
    },
    "kernelspec": {
      "name": "python3",
      "display_name": "Python 3"
    },
    "language_info": {
      "name": "python"
    }
  },
  "cells": [
    {
      "cell_type": "markdown",
      "metadata": {
        "id": "view-in-github",
        "colab_type": "text"
      },
      "source": [
        "<a href=\"https://colab.research.google.com/github/NAGPALADITI14/Data_Mining/blob/main/Decision_and_Loops.ipynb\" target=\"_parent\"><img src=\"https://colab.research.google.com/assets/colab-badge.svg\" alt=\"Open In Colab\"/></a>"
      ]
    },
    {
      "cell_type": "markdown",
      "source": [
        "# ****Practical no: 2**** #\n",
        "# ****Strings, Control structures and loops in python**** #\n",
        "\n",
        "### Submitted by: Aditi Nagpal ###\n",
        "### Roll no: UE223006 ###\n",
        "### GROUP - 1\n",
        "### CSE SECTION-1 ###"
      ],
      "metadata": {
        "id": "4Xe8pWy2e03V"
      }
    },
    {
      "cell_type": "markdown",
      "source": [
        "# ***STRINGS IN PYTHON*** #\n",
        "A string is a sequence of characters. Python treats anything inside quotes as a string. This includes letters, numbers, and symbols. Python has no character data type so single character is a string of length 1."
      ],
      "metadata": {
        "id": "4RoVvC93e5XV"
      }
    },
    {
      "cell_type": "markdown",
      "source": [
        "### Creating a new string ###"
      ],
      "metadata": {
        "id": "kVVT7fJye9QD"
      }
    },
    {
      "cell_type": "code",
      "execution_count": null,
      "metadata": {
        "colab": {
          "base_uri": "https://localhost:8080/"
        },
        "id": "pU70iyuTeelI",
        "outputId": "a7fd16da-96c3-4b76-b47d-6af93687daba"
      },
      "outputs": [
        {
          "output_type": "stream",
          "name": "stdout",
          "text": [
            "UIET\n",
            "PanjabUniversity\n"
          ]
        }
      ],
      "source": [
        "s1 = \"UIET\"\n",
        "s2 = 'PanjabUniversity'\n",
        "print(s1)\n",
        "print(s2)"
      ]
    },
    {
      "cell_type": "markdown",
      "source": [
        "### Printing a strings ###"
      ],
      "metadata": {
        "id": "pHh42iqcfW2B"
      }
    },
    {
      "cell_type": "code",
      "source": [
        "s= ''' Lets code in Python'''\n",
        "print(s)"
      ],
      "metadata": {
        "colab": {
          "base_uri": "https://localhost:8080/"
        },
        "id": "ZfvAHmJVfO1R",
        "outputId": "c654a321-13a4-4c79-c89e-d01b316782a5"
      },
      "execution_count": null,
      "outputs": [
        {
          "output_type": "stream",
          "name": "stdout",
          "text": [
            " Lets code in Python\n"
          ]
        }
      ]
    },
    {
      "cell_type": "markdown",
      "source": [
        "### Accessing the elements of strings ###"
      ],
      "metadata": {
        "id": "LkN2comqfc0P"
      }
    },
    {
      "cell_type": "code",
      "source": [
        "s= \"PanjabUniversity\"\n",
        "## from left to right (0 - n)\n",
        "## from right to left (-n - -1)\n",
        "print(s[0])\n",
        "print(s[-16])\n",
        "print(s[-1])\n",
        "print(s[15])"
      ],
      "metadata": {
        "colab": {
          "base_uri": "https://localhost:8080/"
        },
        "id": "54EgxRTNfaiT",
        "outputId": "1cfaab09-9b48-4250-dbcc-9d7499d272c7"
      },
      "execution_count": null,
      "outputs": [
        {
          "output_type": "stream",
          "name": "stdout",
          "text": [
            "P\n",
            "P\n",
            "y\n",
            "y\n"
          ]
        }
      ]
    },
    {
      "cell_type": "markdown",
      "source": [
        "### String slicing###"
      ],
      "metadata": {
        "id": "4pDd3Zqafotp"
      }
    },
    {
      "cell_type": "code",
      "source": [
        "s= \"PanjabUniversity\"\n",
        "print(s[1:4])\n",
        "\n",
        "print(s[:3])\n",
        "\n",
        "print(s[3:])\n",
        "\n",
        "# Reverse a string\n",
        "print(s[::-1])"
      ],
      "metadata": {
        "colab": {
          "base_uri": "https://localhost:8080/"
        },
        "id": "YW_4_11ffmjh",
        "outputId": "59e39978-b0ea-4ef7-eab8-b1f8e36b2e46"
      },
      "execution_count": null,
      "outputs": [
        {
          "output_type": "stream",
          "name": "stdout",
          "text": [
            "anj\n",
            "Pan\n",
            "jabUniversity\n",
            "ytisrevinUbajnaP\n"
          ]
        }
      ]
    },
    {
      "cell_type": "markdown",
      "source": [
        "### String Immutability ###\n"
      ],
      "metadata": {
        "id": "kuw1Ch2Of26C"
      }
    },
    {
      "cell_type": "code",
      "source": [
        "s = \"The\" + s[0:]\n",
        "print(s)"
      ],
      "metadata": {
        "colab": {
          "base_uri": "https://localhost:8080/"
        },
        "id": "lZ_YCfW5fuYG",
        "outputId": "81d8ab4d-a076-4c0e-e348-5162f234215a"
      },
      "execution_count": null,
      "outputs": [
        {
          "output_type": "stream",
          "name": "stdout",
          "text": [
            "ThePanjabUniversity\n"
          ]
        }
      ]
    },
    {
      "cell_type": "markdown",
      "source": [
        "### Common string methods ###\n"
      ],
      "metadata": {
        "id": "UpDEEFaAf9gF"
      }
    },
    {
      "cell_type": "code",
      "source": [
        "print(\"The length of strings is: \",len(s))\n",
        "\n",
        "print(s.upper())\n",
        "\n",
        "print(s.lower())"
      ],
      "metadata": {
        "colab": {
          "base_uri": "https://localhost:8080/"
        },
        "id": "BmYaH0XYf7NM",
        "outputId": "75b6acb5-20f3-4cd1-9173-c2ba2a69f0fa"
      },
      "execution_count": null,
      "outputs": [
        {
          "output_type": "stream",
          "name": "stdout",
          "text": [
            "The length of strings is:  19\n",
            "THEPANJABUNIVERSITY\n",
            "thepanjabuniversity\n"
          ]
        }
      ]
    },
    {
      "cell_type": "code",
      "source": [
        "s1 = \"   Panjab  University   \"\n",
        "print(s.strip())\n",
        "print(s1*3)\n"
      ],
      "metadata": {
        "colab": {
          "base_uri": "https://localhost:8080/"
        },
        "id": "jZ5f68iHgBBo",
        "outputId": "948a73bd-bad6-4606-b8ac-20b93dbb0c19"
      },
      "execution_count": null,
      "outputs": [
        {
          "output_type": "stream",
          "name": "stdout",
          "text": [
            "ThePanjabUniversity\n",
            "   Panjab  University      Panjab  University      Panjab  University   \n"
          ]
        }
      ]
    },
    {
      "cell_type": "markdown",
      "source": [
        "# **Control Statements** #"
      ],
      "metadata": {
        "id": "aogdaBQvgMCo"
      }
    },
    {
      "cell_type": "markdown",
      "source": [
        "Python program control flow is regulated by various types of conditional statements, loops, and function calls. By default, the instructions in a computer program are executed in a sequential manner, from top to bottom, or from start to end. However, such sequentially executing programs can perform only simplistic tasks. We would like the program to have a decision-making ability, so that it performs different steps depending on different conditions.\n"
      ],
      "metadata": {
        "id": "WJb4sotUgcqB"
      }
    },
    {
      "cell_type": "markdown",
      "source": [
        "### IF STATEMENT ###\n",
        "Python provides if..elif..else control statements as a part of decision marking. It consists of three different blocks, which are if block, elif (short of else if) block and else block.\n"
      ],
      "metadata": {
        "id": "MIW4LDTGgftx"
      }
    },
    {
      "cell_type": "code",
      "source": [
        "cost  = 400\n",
        "result = \"\"\n",
        "if cost < 200:\n",
        "    result = \"cheap\"\n",
        "elif cost > 700:\n",
        "    result = \"expensive\"\n",
        "else:\n",
        "    result = \"affordable\"\n",
        "\n",
        "print(result)\n"
      ],
      "metadata": {
        "colab": {
          "base_uri": "https://localhost:8080/"
        },
        "id": "Y9g5O35Ugab9",
        "outputId": "8a2bda63-c379-405e-e2f8-6ba01b5744e2"
      },
      "execution_count": null,
      "outputs": [
        {
          "output_type": "stream",
          "name": "stdout",
          "text": [
            "affordable\n"
          ]
        }
      ]
    },
    {
      "cell_type": "markdown",
      "source": [
        "### Match-case Statements ###\n",
        "Python supports Match-Case statement, which can also be used as a part of decision making. If a pattern matches the expression, the code under that case will execute.\n"
      ],
      "metadata": {
        "id": "EIlyUNS9gmmC"
      }
    },
    {
      "cell_type": "code",
      "source": [
        "def checkcost(n):\n",
        "    match n:\n",
        "        case 100 : return \"cheap\"\n",
        "        case 400 : return \"affordable\"\n",
        "        case 700 : return \"expensive\"\n",
        "        case _ : return \"none\"\n",
        "\n",
        "print(checkcost(350))\n",
        "print(checkcost(450))\n",
        "print(checkcost(700))\n",
        "print(checkcost(400))"
      ],
      "metadata": {
        "colab": {
          "base_uri": "https://localhost:8080/"
        },
        "id": "wa3hQkWugFhe",
        "outputId": "96258187-c724-4b6e-fd63-26f74b80a44e"
      },
      "execution_count": null,
      "outputs": [
        {
          "output_type": "stream",
          "name": "stdout",
          "text": [
            "none\n",
            "none\n",
            "expensive\n",
            "affordable\n"
          ]
        }
      ]
    },
    {
      "cell_type": "markdown",
      "source": [
        "#### Match statement with constants ####"
      ],
      "metadata": {
        "id": "qy8yZYW9htbO"
      }
    },
    {
      "cell_type": "code",
      "source": [
        "def greet(person):\n",
        "    match person:\n",
        "        case \"A\":\n",
        "            print(\"Hello, A!\")\n",
        "        case \"B\":\n",
        "            print(\"Hello, B!\")\n",
        "        case _:\n",
        "            print(\"Hello, stranger!\")\n",
        "\n",
        "greet(\"A\")\n",
        "greet(\"B\")"
      ],
      "metadata": {
        "colab": {
          "base_uri": "https://localhost:8080/"
        },
        "id": "y3kgrZQUg8GF",
        "outputId": "3fdcaadd-4598-4716-fec9-42d35c67cc94"
      },
      "execution_count": null,
      "outputs": [
        {
          "output_type": "stream",
          "name": "stdout",
          "text": [
            "Hello, A!\n",
            "Hello, B!\n"
          ]
        }
      ]
    },
    {
      "cell_type": "markdown",
      "source": [
        "#### Match statement with OR operator ####"
      ],
      "metadata": {
        "id": "JuWRMUgLh1Hd"
      }
    },
    {
      "cell_type": "code",
      "source": [
        "def cost_check(x):\n",
        "    match x:\n",
        "        case 100 | 200 | 300:\n",
        "            print(f\"Matched: {x}\")\n",
        "        case _:\n",
        "            print(\"No match found\")\n",
        "\n",
        "cost_check(100)\n",
        "cost_check(200)\n",
        "cost_check(250)"
      ],
      "metadata": {
        "colab": {
          "base_uri": "https://localhost:8080/"
        },
        "id": "pQQ7Y5C_hHHz",
        "outputId": "84f0be18-fb9c-4c45-fb67-9ffbee4958c0"
      },
      "execution_count": null,
      "outputs": [
        {
          "output_type": "stream",
          "name": "stdout",
          "text": [
            "Matched: 100\n",
            "Matched: 200\n",
            "No match found\n"
          ]
        }
      ]
    },
    {
      "cell_type": "markdown",
      "source": [
        "#### Match statement if condition ####"
      ],
      "metadata": {
        "id": "xxcYPfUohxl2"
      }
    },
    {
      "cell_type": "code",
      "source": [
        "def cost_check(x):\n",
        "    match x:\n",
        "        case 10 if x % 2 == 0:  # Match 10 only if it's even\n",
        "            print(\"Matched 10 and it's even!\")\n",
        "        case 13:\n",
        "            print(\"Matched 13, but it's not even.\")\n",
        "        case _:\n",
        "            print(\"No match found\")\n",
        "\n",
        "cost_check(10)\n",
        "cost_check(13)\n",
        "cost_check(15)"
      ],
      "metadata": {
        "colab": {
          "base_uri": "https://localhost:8080/"
        },
        "id": "0ss1WNNQhI97",
        "outputId": "5a9270b9-3056-4c46-868d-62fbef4c2709"
      },
      "execution_count": null,
      "outputs": [
        {
          "output_type": "stream",
          "name": "stdout",
          "text": [
            "Matched 10 and it's even!\n",
            "Matched 13, but it's not even.\n",
            "No match found\n"
          ]
        }
      ]
    },
    {
      "cell_type": "markdown",
      "source": [
        "#### Match statement on sequences ####\n"
      ],
      "metadata": {
        "id": "MHqcDQflh7D0"
      }
    },
    {
      "cell_type": "code",
      "source": [
        "def process(data):\n",
        "    match data:\n",
        "        case [x, y]:\n",
        "              # A list with two elements\n",
        "            print(f\"Two-element list: {x}, {y}\")\n",
        "        case [x, y, z]:\n",
        "              # A list with three elements\n",
        "            print(f\"Three-element list: {x}, {y}, {z}\")\n",
        "        case _:\n",
        "            print(\"Unknown data format\")\n",
        "\n",
        "process([1, 2])\n",
        "process([1, 2, 3])\n",
        "process([1, 2, 3, 4])"
      ],
      "metadata": {
        "colab": {
          "base_uri": "https://localhost:8080/"
        },
        "id": "1X19IjTyhLBC",
        "outputId": "d1ad2eed-0aa7-476f-ea72-4ee6048af6e8"
      },
      "execution_count": null,
      "outputs": [
        {
          "output_type": "stream",
          "name": "stdout",
          "text": [
            "Two-element list: 1, 2\n",
            "Three-element list: 1, 2, 3\n",
            "Unknown data format\n"
          ]
        }
      ]
    },
    {
      "cell_type": "markdown",
      "source": [
        "#### Match statement on dictionaries ####\n"
      ],
      "metadata": {
        "id": "3GEKO6Ash9q_"
      }
    },
    {
      "cell_type": "code",
      "source": [
        "def person(person):\n",
        "    match person:\n",
        "\n",
        "          # Dictionary with name and age keys\n",
        "        case {\"name\": name, \"age\": age}:\n",
        "            print(f\"Name: {name}, Age: {age}\")\n",
        "\n",
        "        # Dictionary with only name key\n",
        "        case {\"name\": name}:\n",
        "            print(f\"Name: {name}\")\n",
        "        case _:\n",
        "            print(\"Unknown format\")\n",
        "\n",
        "person({\"name\": \"Alice\", \"age\": 25})\n",
        "person({\"name\": \"Bob\"})\n",
        "person({\"city\": \"New York\"})"
      ],
      "metadata": {
        "colab": {
          "base_uri": "https://localhost:8080/"
        },
        "id": "irK4Xs2XhN5y",
        "outputId": "4956ef69-b293-43a8-904b-728d211f1454"
      },
      "execution_count": null,
      "outputs": [
        {
          "output_type": "stream",
          "name": "stdout",
          "text": [
            "Name: Alice, Age: 25\n",
            "Name: Bob\n",
            "Unknown format\n"
          ]
        }
      ]
    },
    {
      "cell_type": "markdown",
      "source": [
        "## ***Loops in Python***"
      ],
      "metadata": {
        "id": "6jxbCLYGiBhT"
      }
    },
    {
      "cell_type": "markdown",
      "source": [
        "Loops in Python are used to repeat actions efficiently. The main types are For loops (counting through items) and While loops (based on conditions). Additionally, Nested Loops allow looping within loops for more complex tasks. While all the ways provide similar basic functionality, they differ in their syntax and condition-checking time."
      ],
      "metadata": {
        "id": "02xNQ1jZiEXB"
      }
    },
    {
      "cell_type": "markdown",
      "source": [
        "## While Loop"
      ],
      "metadata": {
        "id": "pfimXtCciGuq"
      }
    },
    {
      "cell_type": "markdown",
      "source": [
        "In Python, a while loop is used to execute a block of statements repeatedly until a given condition is satisfied. When the condition becomes false, the line immediately after the loop in the program is executed."
      ],
      "metadata": {
        "id": "afL5z9MgiJOa"
      }
    },
    {
      "cell_type": "code",
      "source": [
        "count = 0\n",
        "while (count < 5):\n",
        "    count = count + 1\n",
        "    print(\"Hello UIET\")"
      ],
      "metadata": {
        "colab": {
          "base_uri": "https://localhost:8080/"
        },
        "id": "PmNF6pSnhPyv",
        "outputId": "18346ec2-d2e1-42a7-888c-58811c8aaad3"
      },
      "execution_count": null,
      "outputs": [
        {
          "output_type": "stream",
          "name": "stdout",
          "text": [
            "Hello UIET\n",
            "Hello UIET\n",
            "Hello UIET\n",
            "Hello UIET\n",
            "Hello UIET\n"
          ]
        }
      ]
    },
    {
      "cell_type": "markdown",
      "source": [
        "##### USING ELSE STATEMENT WITH WHILE LOOP #####\n",
        "Else clause is only executed when our while condition becomes false. If we break out of the loop or if an exception is raised then it won’t be executed."
      ],
      "metadata": {
        "id": "UyqGHe-miRRu"
      }
    },
    {
      "cell_type": "code",
      "source": [
        "count = 0\n",
        "while (count < 3):\n",
        "    count = count + 1\n",
        "    print(\"PRINTING IN THE IF BLOCK\")\n",
        "else:\n",
        "    print(\"PRINTING IN THE ELSE BLOCK\")"
      ],
      "metadata": {
        "colab": {
          "base_uri": "https://localhost:8080/"
        },
        "id": "_pkR3QSqhWaS",
        "outputId": "7224dac6-15ca-4690-8203-a06f665225fd"
      },
      "execution_count": null,
      "outputs": [
        {
          "output_type": "stream",
          "name": "stdout",
          "text": [
            "PRINTING IN THE IF BLOCK\n",
            "PRINTING IN THE IF BLOCK\n",
            "PRINTING IN THE IF BLOCK\n",
            "PRINTING IN THE ELSE BLOCK\n"
          ]
        }
      ]
    },
    {
      "cell_type": "markdown",
      "source": [
        "## FOR LOOP ##"
      ],
      "metadata": {
        "id": "b9K0w2dDiUIq"
      }
    },
    {
      "cell_type": "code",
      "source": [
        "n = 4\n",
        "for i in range(0, n):\n",
        "    print(i)"
      ],
      "metadata": {
        "colab": {
          "base_uri": "https://localhost:8080/"
        },
        "id": "01fm7AkhhZ4b",
        "outputId": "a752a6cc-05bf-4b6b-d82f-954c45426455"
      },
      "execution_count": null,
      "outputs": [
        {
          "output_type": "stream",
          "name": "stdout",
          "text": [
            "0\n",
            "1\n",
            "2\n",
            "3\n"
          ]
        }
      ]
    },
    {
      "cell_type": "code",
      "source": [
        "li = [\"UIET\", \"PANJAB\", \"UNIVERSITY\"]\n",
        "for i in li:\n",
        "    print(i)\n",
        "\n",
        "tup = (\"UIET\", \"PANJAB\", \"UNIVERSITY\")\n",
        "for i in tup:\n",
        "    print(i)\n",
        "\n",
        "s = \"UIET\"\n",
        "for i in s:\n",
        "    print(i)\n",
        "\n",
        "d = dict({'x':123, 'y':354})\n",
        "for i in d:\n",
        "    print(\"%s  %d\" % (i, d[i]))\n",
        "\n",
        "set1 = {1, 2, 3, 4, 5, 6}\n",
        "for i in set1:\n",
        "    print(i),"
      ],
      "metadata": {
        "colab": {
          "base_uri": "https://localhost:8080/"
        },
        "id": "iREqQKiKhblw",
        "outputId": "3c2aa42e-8c51-4b60-90a2-c276d2413370"
      },
      "execution_count": null,
      "outputs": [
        {
          "output_type": "stream",
          "name": "stdout",
          "text": [
            "UIET\n",
            "PANJAB\n",
            "UNIVERSITY\n",
            "UIET\n",
            "PANJAB\n",
            "UNIVERSITY\n",
            "U\n",
            "I\n",
            "E\n",
            "T\n",
            "x  123\n",
            "y  354\n",
            "1\n",
            "2\n",
            "3\n",
            "4\n",
            "5\n",
            "6\n"
          ]
        }
      ]
    },
    {
      "cell_type": "code",
      "source": [
        "list = [\"UIET\", \"PANJAB\", \"UNIVERSITY\"]\n",
        "for index in range(len(list)):\n",
        "    print(list[index])\n",
        "else:\n",
        "    print(\"Inside Else Block\")"
      ],
      "metadata": {
        "colab": {
          "base_uri": "https://localhost:8080/"
        },
        "id": "AQxeA5eUhd2q",
        "outputId": "3b5e4f1d-7662-4dba-a6ba-062a83158820"
      },
      "execution_count": null,
      "outputs": [
        {
          "output_type": "stream",
          "name": "stdout",
          "text": [
            "UIET\n",
            "PANJAB\n",
            "UNIVERSITY\n",
            "Inside Else Block\n"
          ]
        }
      ]
    },
    {
      "cell_type": "code",
      "source": [
        "for i in range(1, 5):\n",
        "    for j in range(i):\n",
        "        print(i, end=' ')\n",
        "    print()"
      ],
      "metadata": {
        "colab": {
          "base_uri": "https://localhost:8080/"
        },
        "id": "23cfGrkZhfmz",
        "outputId": "8a815c8f-ce64-4a1b-850e-e12706eef393"
      },
      "execution_count": null,
      "outputs": [
        {
          "output_type": "stream",
          "name": "stdout",
          "text": [
            "1 \n",
            "2 2 \n",
            "3 3 3 \n",
            "4 4 4 4 \n"
          ]
        }
      ]
    },
    {
      "cell_type": "markdown",
      "source": [
        "# **LOOP CONTROL STATEMENTS** #"
      ],
      "metadata": {
        "id": "CvQrOqwZiX-i"
      }
    },
    {
      "cell_type": "markdown",
      "source": [
        "### CONTINUE STATEMENT ###"
      ],
      "metadata": {
        "id": "SGJHv_pRiZ-D"
      }
    },
    {
      "cell_type": "code",
      "source": [
        "for letter in 'PanjabUniversity':\n",
        "    if letter == 'e' or letter == 's':\n",
        "        continue\n",
        "    print('Current Letter :', letter)"
      ],
      "metadata": {
        "colab": {
          "base_uri": "https://localhost:8080/"
        },
        "id": "94yazolThhQK",
        "outputId": "4ce7d5e5-83be-476c-f391-f7b6906d0349"
      },
      "execution_count": null,
      "outputs": [
        {
          "output_type": "stream",
          "name": "stdout",
          "text": [
            "Current Letter : P\n",
            "Current Letter : a\n",
            "Current Letter : n\n",
            "Current Letter : j\n",
            "Current Letter : a\n",
            "Current Letter : b\n",
            "Current Letter : U\n",
            "Current Letter : n\n",
            "Current Letter : i\n",
            "Current Letter : v\n",
            "Current Letter : r\n",
            "Current Letter : i\n",
            "Current Letter : t\n",
            "Current Letter : y\n"
          ]
        }
      ]
    },
    {
      "cell_type": "markdown",
      "source": [
        "### BREAK STATEMENT ###"
      ],
      "metadata": {
        "id": "P7YPgrwticgb"
      }
    },
    {
      "cell_type": "code",
      "source": [
        "for letter in 'PanjabUniversity':\n",
        "    if letter == 'e' or letter == 's':\n",
        "        break\n",
        "\n",
        "print('Current Letter :', letter)"
      ],
      "metadata": {
        "colab": {
          "base_uri": "https://localhost:8080/"
        },
        "id": "0A54ehauhi4h",
        "outputId": "371117b7-5811-44d6-e878-59f324f8ea16"
      },
      "execution_count": null,
      "outputs": [
        {
          "output_type": "stream",
          "name": "stdout",
          "text": [
            "Current Letter : e\n"
          ]
        }
      ]
    },
    {
      "cell_type": "markdown",
      "source": [
        "### PASS STATEMENT ###"
      ],
      "metadata": {
        "id": "oUXfP1HYiejU"
      }
    },
    {
      "cell_type": "code",
      "source": [
        "for letter in 'PanjabUniversity':\n",
        "    pass\n",
        "print('Last Letter :', letter)"
      ],
      "metadata": {
        "colab": {
          "base_uri": "https://localhost:8080/"
        },
        "id": "gxFPfzC7hkkI",
        "outputId": "b8debf70-cd64-4b2e-ec32-c6b2fb73e9d2"
      },
      "execution_count": null,
      "outputs": [
        {
          "output_type": "stream",
          "name": "stdout",
          "text": [
            "Last Letter : y\n"
          ]
        }
      ]
    }
  ]
}