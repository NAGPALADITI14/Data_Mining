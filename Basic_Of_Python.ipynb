{
 "cells": [
  {
   "cell_type": "markdown",
   "metadata": {},
   "source": [
    "Python as basic calculator"
   ]
  },
  {
   "cell_type": "code",
   "execution_count": 1,
   "metadata": {},
   "outputs": [
    {
     "data": {
      "text/plain": [
       "4"
      ]
     },
     "execution_count": 1,
     "metadata": {},
     "output_type": "execute_result"
    }
   ],
   "source": [
    "2+2"
   ]
  },
  {
   "cell_type": "code",
   "execution_count": 8,
   "metadata": {},
   "outputs": [
    {
     "name": "stdout",
     "output_type": "stream",
     "text": [
      "basic  x :  2.3333333333333335\n",
      "after adding '.' x :  2.3333333333333335\n",
      "after adding float: x:  2.3333333333333335\n"
     ]
    }
   ],
   "source": [
    "x = 7/3\n",
    "print(\"basic  x : \",x)\n",
    "x = 7/3.\n",
    "print(\"after adding '.' x : \",x)\n",
    "x = 7/float(3) \n",
    "print(\"after adding float: x: \",x)"
   ]
  },
  {
   "cell_type": "markdown",
   "metadata": {},
   "source": [
    "Python lines and Indentation "
   ]
  },
  {
   "cell_type": "markdown",
   "metadata": {},
   "source": [
    "Python programming provides no braces to indicate blocks of code for class and function definitions or flow control. Blocks of code are denoted by line indentation, which is rigidly enforced.\n",
    "\n",
    "The number of spaces in the indentation is variable, but all statements within the block must be indented the same amount"
   ]
  },
  {
   "cell_type": "code",
   "execution_count": 11,
   "metadata": {},
   "outputs": [
    {
     "name": "stdout",
     "output_type": "stream",
     "text": [
      "ans is True\n"
     ]
    }
   ],
   "source": [
    "if True:\n",
    "    print(\"ans is True\")\n",
    "else:\n",
    "    print(\"ans is False\")"
   ]
  },
  {
   "cell_type": "markdown",
   "metadata": {},
   "source": [
    "Thus, in Python all the continuous lines indented with same number of spaces would form a block. "
   ]
  },
  {
   "cell_type": "code",
   "execution_count": 12,
   "metadata": {},
   "outputs": [
    {
     "name": "stdout",
     "output_type": "stream",
     "text": [
      "Answer\n",
      "True\n"
     ]
    }
   ],
   "source": [
    "if True:\n",
    "   print (\"Answer\")\n",
    "   print (\"True\")\n",
    "else:\n",
    "   print (\"Answer\")\n",
    "   print (\"False\")"
   ]
  },
  {
   "cell_type": "markdown",
   "metadata": {},
   "source": [
    "Quotations in Python"
   ]
  },
  {
   "cell_type": "markdown",
   "metadata": {},
   "source": [
    "Python accepts single ('), double (\") and triple (''' or \"\"\") quotes to denote string literals, as long as the same type of quote starts and ends the string.\n",
    "\n",
    "The triple quotes are used to span the string across multiple lines."
   ]
  },
  {
   "cell_type": "code",
   "execution_count": 13,
   "metadata": {},
   "outputs": [
    {
     "name": "stdout",
     "output_type": "stream",
     "text": [
      "within single quotes\n",
      "within double quotes\n",
      "This is a paragraph. It is\n",
      " made up of multiple lines and sentences.\n"
     ]
    }
   ],
   "source": [
    "word = 'within single quotes'\n",
    "print (word)\n",
    "\n",
    "sentence = \"within double quotes\"\n",
    "print (sentence)\n",
    "\n",
    "paragraph = \"\"\"This is a paragraph. It is\n",
    " made up of multiple lines and sentences.\"\"\"\n",
    "print (paragraph)"
   ]
  },
  {
   "cell_type": "markdown",
   "metadata": {},
   "source": [
    "Comments in Python\n",
    "\n",
    "\n",
    "A comment is a programmer-readable explanation or annotation in the Python source code. They are added with the purpose of making the source code easier for humans to understand, and are ignored by Python interpreter\n",
    "\n",
    "A hash sign (#) that is not inside a string literal begins a comment. All characters after the # and up to the end of the physical line are part of the comment and the Python interpreter ignores them."
   ]
  },
  {
   "cell_type": "code",
   "execution_count": 19,
   "metadata": {},
   "outputs": [
    {
     "name": "stdout",
     "output_type": "stream",
     "text": [
      "Aditi Nagpal\n"
     ]
    }
   ],
   "source": [
    "name = \"Aditi Nagpal\" # This is again comment\n",
    "print(name)\n",
    "\n",
    "# This is a comment.\n",
    "# This is a comment, too.\n",
    "# This is a comment, too.\n",
    "# I said that already."
   ]
  },
  {
   "cell_type": "markdown",
   "metadata": {},
   "source": [
    "Using Blank Lines in Python Programs\n",
    "\n",
    "\n",
    "A line containing only whitespace, possibly with a comment, is known as a blank line and Python totally ignores it.\n",
    "\n",
    "In an interactive interpreter session, you must enter an empty physical line to terminate a multiline statement."
   ]
  },
  {
   "cell_type": "markdown",
   "metadata": {},
   "source": [
    "Multiple Statements on a Single Line\n",
    "\n",
    "The semicolon ( ; ) allows multiple statements on the single line given that neither statement starts a new code block. Here is a sample snip using the semicolon −"
   ]
  },
  {
   "cell_type": "markdown",
   "metadata": {},
   "source": [
    "1. import sys: This imports the sys module, which allows      you to interact with the interpreter, including accessing standard input, output, and error streams.\n",
    "2. x = 'ADITI': The variable x is assigned the string 'ADITI'.\n",
    "3. sys.stdout.write(x + '\\n'):\n",
    "    sys.stdout.write() writes a string directly to the standard output (console).\n",
    "    x + '\\n' concatenates the value of x ('ADITI') with a newline character ('\\n').\n",
    "\n",
    "\n",
    "\n",
    "OUTPUT:\n",
    "Characters Written:\n",
    "\n",
    "The string x + '\\n' has 5 characters in 'ADITI' and 1 newline character ('\\n), making a total of 6 characters.\n",
    "Interactive Mode Behavior:\n",
    "\n",
    "In an interactive environment, the return value of the last executed statement is often displayed. Since sys.stdout.write(x + '\\n') returns 6, this value is printed after the string is written to stdout."
   ]
  },
  {
   "cell_type": "code",
   "execution_count": 26,
   "metadata": {},
   "outputs": [
    {
     "name": "stdout",
     "output_type": "stream",
     "text": [
      "ADITI\n"
     ]
    },
    {
     "data": {
      "text/plain": [
       "6"
      ]
     },
     "execution_count": 26,
     "metadata": {},
     "output_type": "execute_result"
    }
   ],
   "source": [
    "import sys; x = 'ADITI'; sys.stdout.write(x + '\\n')"
   ]
  },
  {
   "cell_type": "markdown",
   "metadata": {},
   "source": [
    "Multiple Statement Groups as Suites\n",
    "\n",
    "\n",
    "A group of individual statements, which make a single code block are called suites in Python. Compound or complex statements, such as if, while, def, and class require a header line and a suite.\n",
    "\n",
    "Header lines begin the statement (with the keyword) and terminate with a colon ( : ) and are followed by one or more lines which make up the suite."
   ]
  },
  {
   "cell_type": "code",
   "execution_count": 28,
   "metadata": {},
   "outputs": [
    {
     "name": "stdout",
     "output_type": "stream",
     "text": [
      "equal to x\n"
     ]
    }
   ],
   "source": [
    "x = 10\n",
    "if (x >10) :\n",
    "   print(\"greater than x\")\n",
    "elif (x < 10) :\n",
    "   print(\"lesser than x\")\n",
    "else :\n",
    "   print(\"equal to x\")"
   ]
  },
  {
   "cell_type": "markdown",
   "metadata": {},
   "source": [
    "Python Variables"
   ]
  },
  {
   "cell_type": "markdown",
   "metadata": {},
   "source": [
    "Python variables are the reserved memory locations used to store values with in a Python Program. This means that when you create a variable you reserve some space in the memory.\n",
    "\n",
    "Based on the data type of a variable, Python interpreter allocates memory and decides what can be stored in the reserved memory. Therefore, by assigning different data types to Python variables, you can store integers, decimals or characters in these variables."
   ]
  },
  {
   "cell_type": "markdown",
   "metadata": {},
   "source": [
    "Memory addresses\n",
    "\n",
    "Data items belonging to different data types are stored in computer's memory. Computer's memory locations are having a number or address, internally represented in binary form. Data is also stored in binary form as the computer works on the principle of binary representation.\n",
    " It stores the object in a randomly chosen memory location.\n"
   ]
  },
  {
   "cell_type": "code",
   "execution_count": 40,
   "metadata": {},
   "outputs": [
    {
     "name": "stdout",
     "output_type": "stream",
     "text": [
      "Name variable:  ADITI \n",
      "address of name:  1442566861952\n",
      "Surname variable:  NAGPAL \n",
      "address of surname:  1442574061744\n",
      "Age variable:  21 \n",
      "address of Age:  140715138624568\n",
      "India:  1442554279808\n"
     ]
    }
   ],
   "source": [
    "name = \"ADITI\"\n",
    "print(\"Name variable: \",name,\"\\naddress of name: \",id(name))\n",
    "surname = \"NAGPAL\"\n",
    "print(\"Surname variable: \",surname,\"\\naddress of surname: \",id(surname))\n",
    "age = 21\n",
    "print(\"Age variable: \",age,\"\\naddress of Age: \",id(age))\n",
    "\"India\"\n",
    "print(\"India: \",id(\"India\"))"
   ]
  },
  {
   "cell_type": "markdown",
   "metadata": {},
   "source": [
    "in the above lines of code we understand the concept of Label\n",
    "- the label of name 'aditi' is name, which stores the address of the name\n",
    "- Python uses the assignment operator (=) to bind an object with the label.\n",
    "- The label is an identifier. It is usually called as a variable. A Python variable is a symbolic name that is a reference or pointer to an object."
   ]
  },
  {
   "cell_type": "code",
   "execution_count": 41,
   "metadata": {},
   "outputs": [
    {
     "name": "stdout",
     "output_type": "stream",
     "text": [
      "<class 'int'>\n",
      "<class 'float'>\n",
      "<class 'str'>\n"
     ]
    }
   ],
   "source": [
    "counter = 100          # Creates an integer variable\n",
    "miles   = 1000.0       # Creates a floating point variable\n",
    "name    = \"Zara Ali\"   # Creates a string variable\n",
    "\n",
    "print (type(counter))\n",
    "print (type(miles))\n",
    "print (type(name))"
   ]
  },
  {
   "cell_type": "markdown",
   "metadata": {},
   "source": [
    "## **Casting Python Variables**\n",
    "\n",
    "You can specify the data type of a variable with the help of casting as follows:"
   ]
  },
  {
   "cell_type": "markdown",
   "metadata": {},
   "source": [
    "Import statements\n"
   ]
  },
  {
   "cell_type": "code",
   "execution_count": 9,
   "metadata": {},
   "outputs": [
    {
     "data": {
      "text/plain": [
       "9.0"
      ]
     },
     "execution_count": 9,
     "metadata": {},
     "output_type": "execute_result"
    }
   ],
   "source": [
    "import math\n",
    "math.sqrt(81)"
   ]
  },
  {
   "cell_type": "markdown",
   "metadata": {},
   "source": [
    "Variables"
   ]
  },
  {
   "cell_type": "code",
   "execution_count": 10,
   "metadata": {},
   "outputs": [
    {
     "data": {
      "text/plain": [
       "320"
      ]
     },
     "execution_count": 10,
     "metadata": {},
     "output_type": "execute_result"
    }
   ],
   "source": [
    "width = 80\n",
    "length = 4\n",
    "area = width*length\n",
    "area"
   ]
  },
  {
   "cell_type": "code",
   "execution_count": null,
   "metadata": {},
   "outputs": [],
   "source": []
  }
 ],
 "metadata": {
  "kernelspec": {
   "display_name": "base",
   "language": "python",
   "name": "python3"
  },
  "language_info": {
   "codemirror_mode": {
    "name": "ipython",
    "version": 3
   },
   "file_extension": ".py",
   "mimetype": "text/x-python",
   "name": "python",
   "nbconvert_exporter": "python",
   "pygments_lexer": "ipython3",
   "version": "3.12.7"
  }
 },
 "nbformat": 4,
 "nbformat_minor": 2
}
