{
  "nbformat": 4,
  "nbformat_minor": 0,
  "metadata": {
    "colab": {
      "provenance": [],
      "authorship_tag": "ABX9TyM8YcMjk3CSzzuTzUMdAt5g",
      "include_colab_link": true
    },
    "kernelspec": {
      "name": "python3",
      "display_name": "Python 3"
    },
    "language_info": {
      "name": "python"
    }
  },
  "cells": [
    {
      "cell_type": "markdown",
      "metadata": {
        "id": "view-in-github",
        "colab_type": "text"
      },
      "source": [
        "<a href=\"https://colab.research.google.com/github/NAGPALADITI14/Data_Mining/blob/main/Pandas.ipynb\" target=\"_parent\"><img src=\"https://colab.research.google.com/assets/colab-badge.svg\" alt=\"Open In Colab\"/></a>"
      ]
    },
    {
      "cell_type": "markdown",
      "source": [
        "# **Series**"
      ],
      "metadata": {
        "id": "x6ceXrEinttr"
      }
    },
    {
      "cell_type": "code",
      "execution_count": null,
      "metadata": {
        "colab": {
          "base_uri": "https://localhost:8080/"
        },
        "id": "9eFJrEponkqu",
        "outputId": "f79b0dee-8b9b-434e-f3d7-1db2e283c7cc"
      },
      "outputs": [
        {
          "output_type": "stream",
          "name": "stdout",
          "text": [
            "0     5\n",
            "1    10\n",
            "2    15\n",
            "3    20\n",
            "4    25\n",
            "dtype: int64\n",
            "5th element of series is :  25\n"
          ]
        }
      ],
      "source": [
        "import pandas as pd\n",
        "\n",
        "a = [5,10,15,20,25]\n",
        "b = pd.Series(a)\n",
        "print(b)\n",
        "\n",
        "# first value is always indexed as 0\n",
        "print(\"5th element of series is : \",b[4])"
      ]
    },
    {
      "cell_type": "code",
      "source": [
        "# creating labels for the series\n",
        "\n",
        "c = pd.Series(a,index = [\"idx1\",\"idx2\",\"idx3\",\"idx4\",\"idx5\"])\n",
        "print(c)\n",
        "print(c[\"idx4\"])"
      ],
      "metadata": {
        "colab": {
          "base_uri": "https://localhost:8080/"
        },
        "id": "_SfGYuWGoCvj",
        "outputId": "1725cdf6-4e35-4a5b-af4d-88db3a79857c"
      },
      "execution_count": null,
      "outputs": [
        {
          "output_type": "stream",
          "name": "stdout",
          "text": [
            "idx1     5\n",
            "idx2    10\n",
            "idx3    15\n",
            "idx4    20\n",
            "idx5    25\n",
            "dtype: int64\n",
            "20\n"
          ]
        }
      ]
    },
    {
      "cell_type": "code",
      "source": [
        "#Key/Value Objects as Series\n",
        "steps = {\"day1\": 4200, \"day2\": 3980, \"day3\": 3990}\n",
        "stepcount = pd.Series(steps)\n",
        "print(stepcount)\n",
        "\n",
        "step_count = pd.Series(steps,index = [\"idx1\",\"idx2\"])\n",
        "print(step_count)\n",
        "\n",
        "step_count2 = pd.Series(steps,index = [\"day1\",\"day2\"])\n",
        "print(step_count2)"
      ],
      "metadata": {
        "colab": {
          "base_uri": "https://localhost:8080/"
        },
        "id": "jjB-aK6oo4oP",
        "outputId": "73a7c2cf-030d-4973-d296-7f2bc0010db3"
      },
      "execution_count": null,
      "outputs": [
        {
          "output_type": "stream",
          "name": "stdout",
          "text": [
            "day1    4200\n",
            "day2    3980\n",
            "day3    3990\n",
            "dtype: int64\n",
            "idx1   NaN\n",
            "idx2   NaN\n",
            "dtype: float64\n",
            "day1    4200\n",
            "day2    3980\n",
            "dtype: int64\n"
          ]
        }
      ]
    },
    {
      "cell_type": "code",
      "source": [
        "# Dataframes using 2 Series\n",
        "data = {\n",
        "    \"days\" : [1,2,3],\n",
        "    \"steps\" : [4200,3980,3990]\n",
        "}\n",
        "df = pd.DataFrame(data)\n",
        "print(df)\n",
        "print(\"\\n\")\n",
        "\n",
        "print(\"at index 0\")\n",
        "print(df.loc[0])\n",
        "print(\"\\n\")\n",
        "\n",
        "print(\"Accessing multiple indices\")\n",
        "print(df.loc[[0,2]])\n",
        "\n",
        "# When using [], the result is a Pandas DataFrame."
      ],
      "metadata": {
        "id": "_7z4kDSCpPIV",
        "colab": {
          "base_uri": "https://localhost:8080/"
        },
        "outputId": "c464c670-c5be-410e-ff6a-b3fe52287743"
      },
      "execution_count": null,
      "outputs": [
        {
          "output_type": "stream",
          "name": "stdout",
          "text": [
            "   days  steps\n",
            "0     1   4200\n",
            "1     2   3980\n",
            "2     3   3990\n",
            "\n",
            "\n",
            "at index 0\n",
            "days        1\n",
            "steps    4200\n",
            "Name: 0, dtype: int64\n",
            "\n",
            "\n",
            "Accessing multiple indices\n",
            "   days  steps\n",
            "0     1   4200\n",
            "2     3   3990\n"
          ]
        }
      ]
    },
    {
      "cell_type": "code",
      "source": [
        "data = {\n",
        "    \"days\" : [1,2,3],\n",
        "    \"steps\" : [4200,3980,3990]\n",
        "}\n",
        "df = pd.DataFrame(data, index = [\"day1\",\"day2\",\"day3\"])\n",
        "print(df)"
      ],
      "metadata": {
        "colab": {
          "base_uri": "https://localhost:8080/"
        },
        "id": "XINXdTEiRzJ0",
        "outputId": "237c5708-7f6c-48c8-f2e8-48760264460e"
      },
      "execution_count": null,
      "outputs": [
        {
          "output_type": "stream",
          "name": "stdout",
          "text": [
            "      days  steps\n",
            "day1     1   4200\n",
            "day2     2   3980\n",
            "day3     3   3990\n"
          ]
        }
      ]
    },
    {
      "cell_type": "code",
      "source": [
        "#creating an empty series\n",
        "s = pd.Series()\n",
        "print(\"resultant empty series :\\n \",s)\n",
        "\n",
        "#creating a series from array\n",
        "import numpy as np\n",
        "data = np.array(['A','d','i','t','i'])\n",
        "s = pd.Series(data)\n",
        "print(\"resultant series from array :\\n\",s)\n",
        "\n",
        "# using custom index\n",
        "s = pd.Series(data,index=[1,4,9,20,9])\n",
        "print(\"Resultant series with custom index :\\n\",s)\n",
        "\n",
        "#creating series from dictionary\n",
        "dictionary = {'a':1,\"d\":4,\"i\":9,\"t\":20}\n",
        "s = pd.Series(dictionary,index=['a','d','i','t','y'])\n",
        "print(\"resultant series from dictionary :\\n\",s)\n",
        "\n",
        "#creating series from scalar\n",
        "s= pd.Series(10,index=[1,2,3,4,5])\n",
        "print(\"resultant series of Scalar :\\n\",s)"
      ],
      "metadata": {
        "id": "Aoo66tgiSHbX",
        "colab": {
          "base_uri": "https://localhost:8080/"
        },
        "outputId": "4db2999d-7b19-4fc4-c451-6c18dba0264f"
      },
      "execution_count": null,
      "outputs": [
        {
          "output_type": "stream",
          "name": "stdout",
          "text": [
            "resultant empty series :\n",
            "  Series([], dtype: object)\n",
            "resultant series from array :\n",
            " 0    A\n",
            "1    d\n",
            "2    i\n",
            "3    t\n",
            "4    i\n",
            "dtype: object\n",
            "Resultant series with custom index :\n",
            " 1     A\n",
            "4     d\n",
            "9     i\n",
            "20    t\n",
            "9     i\n",
            "dtype: object\n",
            "resultant series from dictionary :\n",
            " a     1.0\n",
            "d     4.0\n",
            "i     9.0\n",
            "t    20.0\n",
            "y     NaN\n",
            "dtype: float64\n",
            "resultant series of Scalar :\n",
            " 1    10\n",
            "2    10\n",
            "3    10\n",
            "4    10\n",
            "5    10\n",
            "dtype: int64\n"
          ]
        }
      ]
    },
    {
      "cell_type": "code",
      "source": [
        "# Pandas Series Slicing\n",
        "\n",
        "data = np.array(['A','d','i','t','i'])\n",
        "s = pd.Series(data)\n",
        "print('Original Series:',s, sep='\\n')\n",
        "\n",
        "# Series[start:stop:step]: It selects elements from start to end with specified step value.\n",
        "result = data[1:4:2]\n",
        "print('Values after slicing the Series:', result, sep='\\n')\n",
        "\n",
        "# Series[start:stop]: It selects items from start to stop with step 1.\n",
        "result = data[1:4]\n",
        "print('Values after slicing the Series:', result, sep='\\n')\n",
        "\n",
        "# Series[start:]: It selects items from start to the rest of the object with step 1.\n",
        "result = data[3:]\n",
        "print('Values after slicing the Series:', result, sep='\\n')\n",
        "\n",
        "# Series[:stop]: It selects the items from the beginning to stop with step 1.\n",
        "result = data[:3]\n",
        "print('Values after slicing the Series:', result, sep='\\n')\n",
        "\n",
        "# Series[:]: It selects all elements from the series object.\n",
        "result = data[:]\n",
        "print('Values after slicing the Series:', result, sep='\\n')\n",
        "\n",
        "#after modifying the elements\n",
        "data[:2] = ['a',\"D\"]\n",
        "print(\"Series after modifying the first two elements:\",data,sep='\\n')"
      ],
      "metadata": {
        "colab": {
          "base_uri": "https://localhost:8080/"
        },
        "id": "dz7wAHQYlIbS",
        "outputId": "1f720d3d-30d2-4a5b-a676-5c5f7cb3c15c"
      },
      "execution_count": null,
      "outputs": [
        {
          "output_type": "stream",
          "name": "stdout",
          "text": [
            "Original Series:\n",
            "0    A\n",
            "1    d\n",
            "2    i\n",
            "3    t\n",
            "4    i\n",
            "dtype: object\n",
            "Values after slicing the Series:\n",
            "['d' 't']\n",
            "Values after slicing the Series:\n",
            "['d' 'i' 't']\n",
            "Values after slicing the Series:\n",
            "['t' 'i']\n",
            "Values after slicing the Series:\n",
            "['A' 'd' 'i']\n",
            "Values after slicing the Series:\n",
            "['A' 'd' 'i' 't' 'i']\n",
            "Series after modifying the first two elements:\n",
            "['a' 'D' 'i' 't' 'i']\n"
          ]
        }
      ]
    },
    {
      "cell_type": "code",
      "source": [
        "#Arithematic operation on Series\n",
        "s = pd.Series([1,2,3,4,5],index = ['a','b','c','d','e'])\n",
        "\n",
        "# Display the Input Series\n",
        "print('Input Series\\n',s)\n",
        "\n",
        "# Apply all Arithmetic Operation and Display the Results\n",
        "print('\\nAddition:\\n',s+2)\n",
        "print('\\nSubtraction:\\n', s-2)\n",
        "print('\\nMultiplication:\\n', s * 2)\n",
        "print('\\nDivision:\\n', s/2)\n",
        "print('\\nExponentiation:\\n', s**2)\n",
        "print('\\nModulus:\\n', s%2)\n",
        "print('\\nFloor Division:\\n', s//2)"
      ],
      "metadata": {
        "colab": {
          "base_uri": "https://localhost:8080/"
        },
        "id": "rDPr-Yx-n4us",
        "outputId": "c63735e8-65a2-4d90-b0fe-b5ba89a676c3"
      },
      "execution_count": null,
      "outputs": [
        {
          "output_type": "stream",
          "name": "stdout",
          "text": [
            "Input Series\n",
            " a    1\n",
            "b    2\n",
            "c    3\n",
            "d    4\n",
            "e    5\n",
            "dtype: int64\n",
            "\n",
            "Addition:\n",
            " a    3\n",
            "b    4\n",
            "c    5\n",
            "d    6\n",
            "e    7\n",
            "dtype: int64\n",
            "\n",
            "Subtraction:\n",
            " a   -1\n",
            "b    0\n",
            "c    1\n",
            "d    2\n",
            "e    3\n",
            "dtype: int64\n",
            "\n",
            "Multiplication:\n",
            " a     2\n",
            "b     4\n",
            "c     6\n",
            "d     8\n",
            "e    10\n",
            "dtype: int64\n",
            "\n",
            "Division:\n",
            " a    0.5\n",
            "b    1.0\n",
            "c    1.5\n",
            "d    2.0\n",
            "e    2.5\n",
            "dtype: float64\n",
            "\n",
            "Exponentiation:\n",
            " a     1\n",
            "b     4\n",
            "c     9\n",
            "d    16\n",
            "e    25\n",
            "dtype: int64\n",
            "\n",
            "Modulus:\n",
            " a    1\n",
            "b    0\n",
            "c    1\n",
            "d    0\n",
            "e    1\n",
            "dtype: int64\n",
            "\n",
            "Floor Division:\n",
            " a    0\n",
            "b    1\n",
            "c    1\n",
            "d    2\n",
            "e    2\n",
            "dtype: int64\n"
          ]
        }
      ]
    },
    {
      "cell_type": "code",
      "source": [
        "s1 = pd.Series([1,2,3,4,5],index = ['a','b','c','d','e'])\n",
        "s2 = pd.Series([9, 8, 6, 5], index=['x','a','b','c'])\n",
        "\n",
        "# Apply all Arithmetic Operations and Display the Results\n",
        "print('\\nAddition:\\n',s1+s2)\n",
        "print('\\nSubtraction:\\n', s1-s2)\n",
        "print('\\nMultiplication:\\n', s1 * s2)\n",
        "print('\\nDivision:\\n', s1/s2)"
      ],
      "metadata": {
        "colab": {
          "base_uri": "https://localhost:8080/"
        },
        "id": "g-Hvj8wHqzNJ",
        "outputId": "ccae2e6e-d152-45d6-f509-e856ce954845"
      },
      "execution_count": null,
      "outputs": [
        {
          "output_type": "stream",
          "name": "stdout",
          "text": [
            "\n",
            "Addition:\n",
            " a    9.0\n",
            "b    8.0\n",
            "c    8.0\n",
            "d    NaN\n",
            "e    NaN\n",
            "x    NaN\n",
            "dtype: float64\n",
            "\n",
            "Subtraction:\n",
            " a   -7.0\n",
            "b   -4.0\n",
            "c   -2.0\n",
            "d    NaN\n",
            "e    NaN\n",
            "x    NaN\n",
            "dtype: float64\n",
            "\n",
            "Multiplication:\n",
            " a     8.0\n",
            "b    12.0\n",
            "c    15.0\n",
            "d     NaN\n",
            "e     NaN\n",
            "x     NaN\n",
            "dtype: float64\n",
            "\n",
            "Division:\n",
            " a    0.125000\n",
            "b    0.333333\n",
            "c    0.600000\n",
            "d         NaN\n",
            "e         NaN\n",
            "x         NaN\n",
            "dtype: float64\n"
          ]
        }
      ]
    },
    {
      "cell_type": "code",
      "source": [
        "#Converting Series to other objects\n",
        "\n",
        "s = pd.Series([1, 2, 3,4,5,6,7,8,9,10])\n",
        "\n",
        "# Convert Series to a Python list\n",
        "result = s.to_list()\n",
        "\n",
        "print(\"Output:\",result)\n",
        "print(\"Output Type:\", type(result))\n",
        "\n",
        "#convert to array\n",
        "result = s.to_numpy()\n",
        "\n",
        "print(\"Output:\",result)\n",
        "print(\"Output Type:\", type(result))\n",
        "\n",
        "# convert to dict\n",
        "result = s.to_dict()\n",
        "\n",
        "print(\"Output:\",result)\n",
        "print(\"Output Type:\", type(result))\n",
        "\n",
        "# convert to Dataframe\n",
        "result = s.to_frame()\n",
        "\n",
        "print(\"Output:\",result)\n",
        "print(\"Output Type:\", type(result))\n",
        "\n",
        "# convert to string\n",
        "result = s.to_string()\n",
        "\n",
        "print(\"Output:\",result)\n",
        "print(\"Output Type:\", type(result))"
      ],
      "metadata": {
        "colab": {
          "base_uri": "https://localhost:8080/"
        },
        "id": "dRK_m2jjrEjG",
        "outputId": "cb0a55df-b634-4729-ab4a-f54644e3ec71"
      },
      "execution_count": null,
      "outputs": [
        {
          "output_type": "stream",
          "name": "stdout",
          "text": [
            "Output: [1, 2, 3, 4, 5, 6, 7, 8, 9, 10]\n",
            "Output Type: <class 'list'>\n",
            "Output: [ 1  2  3  4  5  6  7  8  9 10]\n",
            "Output Type: <class 'numpy.ndarray'>\n",
            "Output: {0: 1, 1: 2, 2: 3, 3: 4, 4: 5, 5: 6, 6: 7, 7: 8, 8: 9, 9: 10}\n",
            "Output Type: <class 'dict'>\n",
            "Output:     0\n",
            "0   1\n",
            "1   2\n",
            "2   3\n",
            "3   4\n",
            "4   5\n",
            "5   6\n",
            "6   7\n",
            "7   8\n",
            "8   9\n",
            "9  10\n",
            "Output Type: <class 'pandas.core.frame.DataFrame'>\n",
            "Output: 0     1\n",
            "1     2\n",
            "2     3\n",
            "3     4\n",
            "4     5\n",
            "5     6\n",
            "6     7\n",
            "7     8\n",
            "8     9\n",
            "9    10\n",
            "Output Type: <class 'str'>\n"
          ]
        }
      ]
    },
    {
      "cell_type": "code",
      "source": [
        "# Basic Functionality\n",
        "\n",
        "# Attributes in Pandas allow you to access metadata about your Series and DataFrame objects. By using these attributes you can explore and easily understand the data.\n",
        "\n",
        "s = pd.Series(np.random.randn(8))\n",
        "\n",
        "#dtype : Returns the data type of the elements in the Series or DataFrame.\n",
        "print(\"Data type of Series:\", s.dtype)\n",
        "# index:Provides the index (row labels) of the Series or DataFrame.\n",
        "print(\"Index of Series:\", s.index)\n",
        "# values:Returns the data in the Series or DataFrame as a NumPy array.\n",
        "print(\"Values of Series:\", s.values)\n",
        "# shape:Returns a tuple representing the dimensionality of the DataFrame (rows, columns).\n",
        "print(\"Shape of Series:\", s.shape)\n",
        "# ndim:Returns the number of dimensions of the object. Series is always 1D, and DataFrame is 2D.\n",
        "print(\"Number of dimensions of Series:\", s.ndim)\n",
        "# size:Gives the total number of elements in the object.\n",
        "print(\"Size of Series:\", s.size)\n",
        "# empty:Checks if the object is empty, and returns True if it is.\n",
        "print(\"Is Series empty?:\", s.empty)\n"
      ],
      "metadata": {
        "colab": {
          "base_uri": "https://localhost:8080/"
        },
        "id": "HxbURzgKrqfq",
        "outputId": "62953e87-6a1b-4592-db9f-0d6c87944094"
      },
      "execution_count": null,
      "outputs": [
        {
          "output_type": "stream",
          "name": "stdout",
          "text": [
            "Data type of Series: float64\n",
            "Index of Series: RangeIndex(start=0, stop=8, step=1)\n",
            "Values of Series: [ 0.19931687 -0.51139384 -1.79931505 -0.05310875  1.91022485 -0.88005816\n",
            "  0.2587058  -2.20481141]\n",
            "Shape of Series: (8,)\n",
            "Number of dimensions of Series: 1\n",
            "Size of Series: 8\n",
            "Is Series empty?: False\n"
          ]
        }
      ]
    },
    {
      "cell_type": "code",
      "source": [
        "# head(n):Returns the first n rows of the object. The default value of n is 5.\n",
        "# tail(n):Returns the last n rows of the object. The default value of n is 5.\n",
        "# info():Provides a concise summary of a DataFrame, including the index dtype and column dtypes, non-null values, and memory usage.\n",
        "# describe():Generates descriptive statistics of the DataFrame or Series, such as count, mean, std, min, and max.\n",
        "\n",
        "import pandas as pd\n",
        "import numpy as np\n",
        "\n",
        "# Create a Series with random numbers\n",
        "s = pd.Series(np.random.randn(10))\n",
        "\n",
        "print(\"Series:\")\n",
        "print(s)\n",
        "\n",
        "# Using basic methods\n",
        "print(\"First 5 elements of the Series:\\n\", s.head())\n",
        "print(\"\\nLast 4 elements of the Series:\\n\", s.tail(4))\n",
        "print(\"\\nDescriptive statistics of the Series:\\n\", s.describe())"
      ],
      "metadata": {
        "colab": {
          "base_uri": "https://localhost:8080/"
        },
        "id": "GGXCwH0LtowW",
        "outputId": "473274b3-5022-41ad-ca0e-6a85fd2510dc"
      },
      "execution_count": null,
      "outputs": [
        {
          "output_type": "stream",
          "name": "stdout",
          "text": [
            "Series:\n",
            "0   -0.902836\n",
            "1   -1.780421\n",
            "2   -0.210645\n",
            "3   -0.999751\n",
            "4   -0.330581\n",
            "5   -0.779577\n",
            "6   -0.756939\n",
            "7    1.943579\n",
            "8    0.822437\n",
            "9   -0.802398\n",
            "dtype: float64\n",
            "First 5 elements of the Series:\n",
            " 0   -0.902836\n",
            "1   -1.780421\n",
            "2   -0.210645\n",
            "3   -0.999751\n",
            "4   -0.330581\n",
            "dtype: float64\n",
            "\n",
            "Last 4 elements of the Series:\n",
            " 6   -0.756939\n",
            "7    1.943579\n",
            "8    0.822437\n",
            "9   -0.802398\n",
            "dtype: float64\n",
            "\n",
            "Descriptive statistics of the Series:\n",
            " count    10.000000\n",
            "mean     -0.379713\n",
            "std       1.052763\n",
            "min      -1.780421\n",
            "25%      -0.877726\n",
            "50%      -0.768258\n",
            "75%      -0.240629\n",
            "max       1.943579\n",
            "dtype: float64\n"
          ]
        }
      ]
    },
    {
      "cell_type": "code",
      "source": [
        "#Attributes used with dataframes\n",
        "\n",
        "data = {'Name':pd.Series(['Tom','James','Ricky','Vin','Steve','Smith','Jack']),\n",
        "   'Age':pd.Series([25,26,25,23,30,29,23]),\n",
        "   'Rating':pd.Series([4.23,3.24,3.98,2.56,3.20,4.6,3.8])}\n",
        "\n",
        "df = pd.DataFrame(data)\n",
        "print(\"Our data frame is:\\n\")\n",
        "print(df)\n",
        "\n",
        "print(\"\\nFirst 5 rows of the DataFrame:\\n\", df.head())\n",
        "print(\"\\nLast 3 rows of the DataFrame:\\n\", df.tail(3))\n",
        "print(\"\\nInfo of the DataFrame:\")\n",
        "df.info()\n",
        "print(\"\\nDescriptive statistics of the DataFrame:\\n\", df.describe())"
      ],
      "metadata": {
        "colab": {
          "base_uri": "https://localhost:8080/"
        },
        "id": "KC4P9MxzuKj7",
        "outputId": "2d36a450-eb11-4140-f7b4-1ee2a9829200"
      },
      "execution_count": null,
      "outputs": [
        {
          "output_type": "stream",
          "name": "stdout",
          "text": [
            "Our data frame is:\n",
            "\n",
            "    Name  Age  Rating\n",
            "0    Tom   25    4.23\n",
            "1  James   26    3.24\n",
            "2  Ricky   25    3.98\n",
            "3    Vin   23    2.56\n",
            "4  Steve   30    3.20\n",
            "5  Smith   29    4.60\n",
            "6   Jack   23    3.80\n",
            "\n",
            "First 5 rows of the DataFrame:\n",
            "     Name  Age  Rating\n",
            "0    Tom   25    4.23\n",
            "1  James   26    3.24\n",
            "2  Ricky   25    3.98\n",
            "3    Vin   23    2.56\n",
            "4  Steve   30    3.20\n",
            "\n",
            "Last 3 rows of the DataFrame:\n",
            "     Name  Age  Rating\n",
            "4  Steve   30     3.2\n",
            "5  Smith   29     4.6\n",
            "6   Jack   23     3.8\n",
            "\n",
            "Info of the DataFrame:\n",
            "<class 'pandas.core.frame.DataFrame'>\n",
            "RangeIndex: 7 entries, 0 to 6\n",
            "Data columns (total 3 columns):\n",
            " #   Column  Non-Null Count  Dtype  \n",
            "---  ------  --------------  -----  \n",
            " 0   Name    7 non-null      object \n",
            " 1   Age     7 non-null      int64  \n",
            " 2   Rating  7 non-null      float64\n",
            "dtypes: float64(1), int64(1), object(1)\n",
            "memory usage: 300.0+ bytes\n",
            "\n",
            "Descriptive statistics of the DataFrame:\n",
            "              Age    Rating\n",
            "count   7.000000  7.000000\n",
            "mean   25.857143  3.658571\n",
            "std     2.734262  0.698628\n",
            "min    23.000000  2.560000\n",
            "25%    24.000000  3.220000\n",
            "50%    25.000000  3.800000\n",
            "75%    27.500000  4.105000\n",
            "max    30.000000  4.600000\n"
          ]
        }
      ]
    },
    {
      "cell_type": "code",
      "source": [
        "# INDEXING AND SELECTING DATA\n",
        "\n",
        "np.random.seed(45)\n",
        "df = pd.DataFrame(np.random.randint(200,1000,size=(7, 5)),\n",
        "                  index=['R1','R2','R3','R4','R5','R6','R7'],\n",
        "                  columns=['C1','C2','C3','C4','C5'])\n",
        "print(df)\n",
        "# select the first column\n",
        "print(\"values in col1:\\n\",df['C1'])\n",
        "print(\"values in col1:\\n\", df.loc[:, 'C1'])\n",
        "print(\"values in col1:\\n\", df.iloc[:, 0])\n",
        "\n",
        "# selecting multiple columns\n",
        "print(\"values in col1,col3,col5:\\n\",df.loc[:,['C1','C3','C5']])\n",
        "\n",
        "# SELECTING PARTICULAR ROWS AND COLUMNS\n",
        "print(\"----------Result:--------\\n\",df.loc[['R2','R4','R6'],['C1','C3','C5']])\n",
        "\n",
        "# SELECTING PARTICUAR ROWS\n",
        "print(\"----------Result:--------\\n\",df.loc['R2':'R5'])"
      ],
      "metadata": {
        "colab": {
          "base_uri": "https://localhost:8080/"
        },
        "id": "8y8n5C1KumMD",
        "outputId": "7c4bd926-6cc8-490f-f8c1-039917236903"
      },
      "execution_count": null,
      "outputs": [
        {
          "output_type": "stream",
          "name": "stdout",
          "text": [
            "     C1   C2   C3   C4   C5\n",
            "R1  614  843  744  807  925\n",
            "R2  363  780  577  832  215\n",
            "R3  777  598  509  769  656\n",
            "R4  415  464  381  580  224\n",
            "R5  468  217  686  396  310\n",
            "R6  838  358  470  690  236\n",
            "R7  999  798  620  897  389\n",
            "values in col1:\n",
            " R1    614\n",
            "R2    363\n",
            "R3    777\n",
            "R4    415\n",
            "R5    468\n",
            "R6    838\n",
            "R7    999\n",
            "Name: C1, dtype: int64\n",
            "values in col1:\n",
            " R1    614\n",
            "R2    363\n",
            "R3    777\n",
            "R4    415\n",
            "R5    468\n",
            "R6    838\n",
            "R7    999\n",
            "Name: C1, dtype: int64\n",
            "values in col1:\n",
            " R1    614\n",
            "R2    363\n",
            "R3    777\n",
            "R4    415\n",
            "R5    468\n",
            "R6    838\n",
            "R7    999\n",
            "Name: C1, dtype: int64\n",
            "values in col1,col3,col5:\n",
            "      C1   C3   C5\n",
            "R1  614  744  925\n",
            "R2  363  577  215\n",
            "R3  777  509  656\n",
            "R4  415  381  224\n",
            "R5  468  686  310\n",
            "R6  838  470  236\n",
            "R7  999  620  389\n",
            "----------Result:--------\n",
            "      C1   C3   C5\n",
            "R2  363  577  215\n",
            "R4  415  381  224\n",
            "R6  838  470  236\n",
            "----------Result:--------\n",
            "      C1   C2   C3   C4   C5\n",
            "R2  363  780  577  832  215\n",
            "R3  777  598  509  769  656\n",
            "R4  415  464  381  580  224\n",
            "R5  468  217  686  396  310\n"
          ]
        }
      ]
    },
    {
      "cell_type": "code",
      "source": [
        "# Integer Position-Based Indexing with .iloc\n",
        "# The .iloc indexer is used for integer-based indexing,\n",
        "# which allows you to select rows and columns by their numerical\n",
        "# position. This method is similar to standard python and numpy indexing\n",
        "#  (i.e. 0-based indexing).\n",
        "\n",
        "# Single Integer: Selects data by its position, e.g., df.iloc[0].\n",
        "\n",
        "# List of Integers: Select multiple rows or columns by their positions, e.g., df.iloc[[0, 1, 2]].\n",
        "\n",
        "# Integer Slicing: Use slices with integers, e.g., df.iloc[1:3].\n",
        "\n",
        "# Boolean Arrays: Similar to .loc, but for positions.\n",
        "\n",
        "# SELECT ALL COLUMNS FOR A PARTCULAR ROW\n",
        "print('\\nResult:\\n',df.iloc[:3])\n",
        "\n",
        "print('\\nResult:\\n',df.iloc[1:4,2:4])\n",
        "\n",
        "#slicing through list of values\n",
        "print('\\nResult:\\n',df.iloc[[1,3,5,],[2,4]])"
      ],
      "metadata": {
        "colab": {
          "base_uri": "https://localhost:8080/"
        },
        "id": "RcPtJht8v-kU",
        "outputId": "28b79bab-9b7c-4aba-ba16-05ee56309095"
      },
      "execution_count": null,
      "outputs": [
        {
          "output_type": "stream",
          "name": "stdout",
          "text": [
            "\n",
            "Result:\n",
            "      C1   C2   C3   C4   C5\n",
            "R1  614  843  744  807  925\n",
            "R2  363  780  577  832  215\n",
            "R3  777  598  509  769  656\n",
            "\n",
            "Result:\n",
            "      C3   C4\n",
            "R2  577  832\n",
            "R3  509  769\n",
            "R4  381  580\n",
            "\n",
            "Result:\n",
            "      C3   C5\n",
            "R2  577  215\n",
            "R4  381  224\n",
            "R6  470  236\n"
          ]
        }
      ]
    },
    {
      "cell_type": "code",
      "source": [
        "# iteration\n",
        "print(\"Original Dataframe:\\n\",df)\n",
        "\n",
        "print(\"Iterated Output:\")\n",
        "for col,row in df.items():\n",
        "   print(col,row)\n",
        "\n",
        "print(\"--------------------Iterated Output:-------------------------\")\n",
        "for row,col in df.items():\n",
        "   print(row,col)\n",
        "\n",
        "\n",
        "# Iterate Over DataFrame as Series Pairs\n",
        "# The iterrows() method returns an iterator that yields index and row pairs, where each row is represented as a Series object, containing the data in each row.\n",
        "\n",
        "for row_index,row in df.iterrows():\n",
        "   print(row_index,row)\n",
        "\n",
        "# Iterate Over DataFrame as Namedtuples\n",
        "# The itertuples() method will return an iterator yielding a named tuple for each row in the DataFrame.\n",
        "\n",
        "print(\"Iterated Output:\")\n",
        "for row in df.itertuples():\n",
        "   print(row)\n",
        "\n"
      ],
      "metadata": {
        "colab": {
          "base_uri": "https://localhost:8080/"
        },
        "id": "WRZ2WhibzSiB",
        "outputId": "793b6eb8-d3f0-4c47-921a-ca32c595ad55"
      },
      "execution_count": null,
      "outputs": [
        {
          "output_type": "stream",
          "name": "stdout",
          "text": [
            "Original Dataframe:\n",
            "      C1   C2   C3   C4   C5\n",
            "R1  614  843  744  807  925\n",
            "R2  363  780  577  832  215\n",
            "R3  777  598  509  769  656\n",
            "R4  415  464  381  580  224\n",
            "R5  468  217  686  396  310\n",
            "R6  838  358  470  690  236\n",
            "R7  999  798  620  897  389\n",
            "Iterated Output:\n",
            "C1 R1    614\n",
            "R2    363\n",
            "R3    777\n",
            "R4    415\n",
            "R5    468\n",
            "R6    838\n",
            "R7    999\n",
            "Name: C1, dtype: int64\n",
            "C2 R1    843\n",
            "R2    780\n",
            "R3    598\n",
            "R4    464\n",
            "R5    217\n",
            "R6    358\n",
            "R7    798\n",
            "Name: C2, dtype: int64\n",
            "C3 R1    744\n",
            "R2    577\n",
            "R3    509\n",
            "R4    381\n",
            "R5    686\n",
            "R6    470\n",
            "R7    620\n",
            "Name: C3, dtype: int64\n",
            "C4 R1    807\n",
            "R2    832\n",
            "R3    769\n",
            "R4    580\n",
            "R5    396\n",
            "R6    690\n",
            "R7    897\n",
            "Name: C4, dtype: int64\n",
            "C5 R1    925\n",
            "R2    215\n",
            "R3    656\n",
            "R4    224\n",
            "R5    310\n",
            "R6    236\n",
            "R7    389\n",
            "Name: C5, dtype: int64\n",
            "--------------------Iterated Output:-------------------------\n",
            "C1 R1    614\n",
            "R2    363\n",
            "R3    777\n",
            "R4    415\n",
            "R5    468\n",
            "R6    838\n",
            "R7    999\n",
            "Name: C1, dtype: int64\n",
            "C2 R1    843\n",
            "R2    780\n",
            "R3    598\n",
            "R4    464\n",
            "R5    217\n",
            "R6    358\n",
            "R7    798\n",
            "Name: C2, dtype: int64\n",
            "C3 R1    744\n",
            "R2    577\n",
            "R3    509\n",
            "R4    381\n",
            "R5    686\n",
            "R6    470\n",
            "R7    620\n",
            "Name: C3, dtype: int64\n",
            "C4 R1    807\n",
            "R2    832\n",
            "R3    769\n",
            "R4    580\n",
            "R5    396\n",
            "R6    690\n",
            "R7    897\n",
            "Name: C4, dtype: int64\n",
            "C5 R1    925\n",
            "R2    215\n",
            "R3    656\n",
            "R4    224\n",
            "R5    310\n",
            "R6    236\n",
            "R7    389\n",
            "Name: C5, dtype: int64\n",
            "R1 C1    614\n",
            "C2    843\n",
            "C3    744\n",
            "C4    807\n",
            "C5    925\n",
            "Name: R1, dtype: int64\n",
            "R2 C1    363\n",
            "C2    780\n",
            "C3    577\n",
            "C4    832\n",
            "C5    215\n",
            "Name: R2, dtype: int64\n",
            "R3 C1    777\n",
            "C2    598\n",
            "C3    509\n",
            "C4    769\n",
            "C5    656\n",
            "Name: R3, dtype: int64\n",
            "R4 C1    415\n",
            "C2    464\n",
            "C3    381\n",
            "C4    580\n",
            "C5    224\n",
            "Name: R4, dtype: int64\n",
            "R5 C1    468\n",
            "C2    217\n",
            "C3    686\n",
            "C4    396\n",
            "C5    310\n",
            "Name: R5, dtype: int64\n",
            "R6 C1    838\n",
            "C2    358\n",
            "C3    470\n",
            "C4    690\n",
            "C5    236\n",
            "Name: R6, dtype: int64\n",
            "R7 C1    999\n",
            "C2    798\n",
            "C3    620\n",
            "C4    897\n",
            "C5    389\n",
            "Name: R7, dtype: int64\n",
            "Iterated Output:\n",
            "Pandas(Index='R1', C1=614, C2=843, C3=744, C4=807, C5=925)\n",
            "Pandas(Index='R2', C1=363, C2=780, C3=577, C4=832, C5=215)\n",
            "Pandas(Index='R3', C1=777, C2=598, C3=509, C4=769, C5=656)\n",
            "Pandas(Index='R4', C1=415, C2=464, C3=381, C4=580, C5=224)\n",
            "Pandas(Index='R5', C1=468, C2=217, C3=686, C4=396, C5=310)\n",
            "Pandas(Index='R6', C1=838, C2=358, C3=470, C4=690, C5=236)\n",
            "Pandas(Index='R7', C1=999, C2=798, C3=620, C4=897, C5=389)\n"
          ]
        }
      ]
    },
    {
      "cell_type": "markdown",
      "source": [
        "# **Sorting in dataframes**"
      ],
      "metadata": {
        "id": "pCN68I0zcVja"
      }
    },
    {
      "cell_type": "code",
      "source": [
        "import pandas as pd\n",
        "data = {'Name': ['Candidate1', 'Candidate2', 'Candidate3', 'Candidate4'],'Age': [25, 30, 35, 40],'Score': [85, 90, 95, 80]}\n",
        "df = pd.DataFrame(data)\n",
        "\n",
        "# Sorting by 'Age' in descending order\n",
        "print(\"Sorting by 'Age' in descending order:\")\n",
        "sorted_df = df.sort_values(by='Age',ascending=False)\n",
        "print(sorted_df)\n",
        "\n",
        "# in ascending order\n",
        "print(\"\\nSorting by 'Age' in ascending order:\")\n",
        "sorted_df = df.sort_values(by='Age',ascending=True)\n",
        "print(sorted_df)\n",
        "\n",
        "#Sort dataframes by multiple columns\n",
        "print(\"\\nSorting by 'Age' and 'Score':\")\n",
        "sorted_df = df.sort_values(by=['Age', 'Score'])\n",
        "print(sorted_df)\n",
        "\n",
        "#dataframe with nan values\n",
        "data = {'Name': ['Candidate1', 'Candidate2', 'Candidate3', 'Candidate4'],'Age': [25, 30, 35, 40],'Score': [85, None, 95, 80]}\n",
        "df = pd.DataFrame(data)\n",
        "print(\"\\nSorting by 'Score' with NaN values first:\")\n",
        "sorted_df = df.sort_values(by=\"Score\",na_position=\"first\")\n",
        "print(sorted_df)\n",
        "\n",
        "print(\"\\nSorting by 'Age' with NaN values first:\")\n",
        "sorted_df = df.sort_values(by=\"Age\",na_position=\"first\")\n",
        "print(sorted_df)\n",
        "\n",
        "#Sorting with different algorithms\n",
        "print(\"\\nSorting by 'Age' using mergesort:\")\n",
        "sorted_df = df.sort_values(by='Age', kind='mergesort')\n",
        "print(sorted_df)\n",
        "\n",
        "print(\"\\nSorting by 'Age' using quicksort:\")\n",
        "sorted_df = df.sort_values(by='Age', kind='quicksort')\n",
        "print(sorted_df)\n",
        "\n",
        "print(\"\\nSorting by 'Age' using heapsort:\")\n",
        "sorted_df = df.sort_values(by='Age', kind='heapsort')\n",
        "print(sorted_df)\n",
        "\n",
        "# Custom Sorting with Key Functions\n",
        "data = {\n",
        "    \"Name\": [\"Alice\", \"Bob\", \"Charlie\", \"David\", \"Eve\"],\n",
        "    \"Age\": [28, 22, 25, 22, 28],\n",
        "    \"Score\": [85, 90, 95, 80, 88]\n",
        "}\n",
        "df = pd.DataFrame(data)\n",
        "\n",
        "print(\"\\nCustom sorting 'Name' by lowercase:\")\n",
        "sorted_df = df.sort_values(by='Name', key=lambda col: col.str.lower())\n",
        "print(sorted_df)"
      ],
      "metadata": {
        "id": "eEbhRJKhAp6X",
        "colab": {
          "base_uri": "https://localhost:8080/"
        },
        "outputId": "79ed4e75-4f10-4f72-ab5a-8fdb521954f8"
      },
      "execution_count": null,
      "outputs": [
        {
          "output_type": "stream",
          "name": "stdout",
          "text": [
            "Sorting by 'Age' in descending order:\n",
            "         Name  Age  Score\n",
            "3  Candidate4   40     80\n",
            "2  Candidate3   35     95\n",
            "1  Candidate2   30     90\n",
            "0  Candidate1   25     85\n",
            "\n",
            "Sorting by 'Age' in ascending order:\n",
            "         Name  Age  Score\n",
            "0  Candidate1   25     85\n",
            "1  Candidate2   30     90\n",
            "2  Candidate3   35     95\n",
            "3  Candidate4   40     80\n",
            "\n",
            "Sorting by 'Age' and 'Score':\n",
            "         Name  Age  Score\n",
            "0  Candidate1   25     85\n",
            "1  Candidate2   30     90\n",
            "2  Candidate3   35     95\n",
            "3  Candidate4   40     80\n",
            "\n",
            "Sorting by 'Score' with NaN values first:\n",
            "         Name  Age  Score\n",
            "1  Candidate2   30    NaN\n",
            "3  Candidate4   40   80.0\n",
            "0  Candidate1   25   85.0\n",
            "2  Candidate3   35   95.0\n",
            "\n",
            "Sorting by 'Age' with NaN values first:\n",
            "         Name  Age  Score\n",
            "0  Candidate1   25   85.0\n",
            "1  Candidate2   30    NaN\n",
            "2  Candidate3   35   95.0\n",
            "3  Candidate4   40   80.0\n",
            "\n",
            "Sorting by 'Age' using mergesort:\n",
            "         Name  Age  Score\n",
            "0  Candidate1   25   85.0\n",
            "1  Candidate2   30    NaN\n",
            "2  Candidate3   35   95.0\n",
            "3  Candidate4   40   80.0\n",
            "\n",
            "Sorting by 'Age' using quicksort:\n",
            "         Name  Age  Score\n",
            "0  Candidate1   25   85.0\n",
            "1  Candidate2   30    NaN\n",
            "2  Candidate3   35   95.0\n",
            "3  Candidate4   40   80.0\n",
            "\n",
            "Sorting by 'Age' using heapsort:\n",
            "         Name  Age  Score\n",
            "0  Candidate1   25   85.0\n",
            "1  Candidate2   30    NaN\n",
            "2  Candidate3   35   95.0\n",
            "3  Candidate4   40   80.0\n",
            "\n",
            "Custom sorting 'Name' by lowercase:\n",
            "      Name  Age  Score\n",
            "0    Alice   28     85\n",
            "1      Bob   22     90\n",
            "2  Charlie   25     95\n",
            "3    David   22     80\n",
            "4      Eve   28     88\n"
          ]
        }
      ]
    },
    {
      "cell_type": "code",
      "source": [],
      "metadata": {
        "id": "tAJILmKLc4Li"
      },
      "execution_count": null,
      "outputs": []
    }
  ]
}