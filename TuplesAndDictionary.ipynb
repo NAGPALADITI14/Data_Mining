{
  "nbformat": 4,
  "nbformat_minor": 0,
  "metadata": {
    "colab": {
      "provenance": [],
      "include_colab_link": true
    },
    "kernelspec": {
      "name": "python3",
      "display_name": "Python 3"
    },
    "language_info": {
      "name": "python"
    }
  },
  "cells": [
    {
      "cell_type": "markdown",
      "metadata": {
        "id": "view-in-github",
        "colab_type": "text"
      },
      "source": [
        "<a href=\"https://colab.research.google.com/github/NAGPALADITI14/Data_Mining/blob/main/TuplesAndDictionary.ipynb\" target=\"_parent\"><img src=\"https://colab.research.google.com/assets/colab-badge.svg\" alt=\"Open In Colab\"/></a>"
      ]
    },
    {
      "cell_type": "markdown",
      "source": [
        "# ****Practical no: 3****\n",
        "# ****Python Lists, Tuples, Dictionary, Functions**** #\n",
        "\n",
        "### Submitted by: Aditi Nagpal ###\n",
        "### Roll no: UE223006 ###\n",
        "### GROUP - 1\n",
        "### CSE SECTION-1 ###"
      ],
      "metadata": {
        "id": "4Xe8pWy2e03V"
      }
    },
    {
      "cell_type": "markdown",
      "source": [
        "# ***LISTS IN PYTHON*** #\n",
        "Lists are used to store multiple items in a single variable.\n",
        "\n",
        "Lists are one of 4 built-in data types in Python used to store collections of data, the other 3 are Tuple, Set, and Dictionary, all with different qualities and usage.\n",
        "\n",
        "-> List items are ordered, changeable, and allow duplicate values.\n",
        "\n",
        "-> List items are indexed, the first item has index [0], the second item has index [1] etc.\n",
        "\n",
        "-> When we say that lists are ordered, it means that the items have a defined order, and that order will not change.\n",
        "\n",
        "-> If you add new items to a list, the new items will be placed at the end of the list."
      ],
      "metadata": {
        "id": "4RoVvC93e5XV"
      }
    },
    {
      "cell_type": "code",
      "source": [
        "fruitlist = [\"apple\", \"banana\", \"cherry\", \"apple\", \"cherry\"]\n",
        "print(fruitlist)"
      ],
      "metadata": {
        "colab": {
          "base_uri": "https://localhost:8080/"
        },
        "id": "admOkD0zibEw",
        "outputId": "73483c3f-17f2-4299-82ee-3b890f045219"
      },
      "execution_count": null,
      "outputs": [
        {
          "output_type": "stream",
          "name": "stdout",
          "text": [
            "['apple', 'banana', 'cherry', 'apple', 'cherry']\n"
          ]
        }
      ]
    },
    {
      "cell_type": "markdown",
      "source": [
        "# ***TUPLES IN PYTHON*** #\n",
        "Tuples are used to store multiple items in a single variable.\n",
        "\n",
        "A tuple is a collection which is ordered and unchangeable.\n",
        "\n",
        "Tuples are written with round brackets.\n",
        "\n",
        "Tuple items are ordered, unchangeable, and allow duplicate values.\n",
        "\n",
        "Tuple items are indexed, the first item has index [0], the second item has index [1] etc.\n",
        "\n",
        "When we say that tuples are ordered, it means that the items have a defined order, and that order will not change.\n",
        "\n",
        "Tuples are unchangeable, meaning that we cannot change, add or remove items after the tuple has been created."
      ],
      "metadata": {
        "id": "7VYk9wIybT8R"
      }
    },
    {
      "cell_type": "code",
      "source": [
        "fruittuple = (\"apple\", \"banana\", \"cherry\", \"apple\", \"cherry\")\n",
        "print(fruittuple)"
      ],
      "metadata": {
        "colab": {
          "base_uri": "https://localhost:8080/"
        },
        "id": "3Su4VJIQizBk",
        "outputId": "1230fa81-a361-4799-97d0-9105267c2a5f"
      },
      "execution_count": null,
      "outputs": [
        {
          "output_type": "stream",
          "name": "stdout",
          "text": [
            "('apple', 'banana', 'cherry', 'apple', 'cherry')\n"
          ]
        }
      ]
    },
    {
      "cell_type": "markdown",
      "source": [
        "# ***FUNCTIONS IN PYTHON*** #\n",
        "A function is a block of reusable code that performs a specific task.\n"
      ],
      "metadata": {
        "id": "FPWG79TTbWD1"
      }
    },
    {
      "cell_type": "code",
      "source": [
        "def greet(name):\n",
        "\n",
        "    return f\"Hello, {name}!\"\n",
        "\n",
        "print(greet(\"Aditi Nagpal\"))"
      ],
      "metadata": {
        "id": "nnr5RC1wlWn6",
        "outputId": "5e4bbf2d-9809-4ca1-cc08-179c363f1d28",
        "colab": {
          "base_uri": "https://localhost:8080/"
        }
      },
      "execution_count": null,
      "outputs": [
        {
          "output_type": "stream",
          "name": "stdout",
          "text": [
            "Hello, Aditi Nagpal!\n"
          ]
        }
      ]
    },
    {
      "cell_type": "markdown",
      "source": [
        "# ***DICTIONARY IN PYTHON*** #\n",
        "A dictionary is an unordered, mutable collection that stores data in key-value pairs.\n",
        "\n",
        "\n"
      ],
      "metadata": {
        "id": "gmJysL-NbWRI"
      }
    },
    {
      "cell_type": "code",
      "source": [
        "Car = {\n",
        "  \"brand\": \"Ford\",\n",
        "  \"model\": \"Mustang\",\n",
        "  \"year\": 1964\n",
        "}\n",
        "print(Car[\"brand\"])"
      ],
      "metadata": {
        "colab": {
          "base_uri": "https://localhost:8080/"
        },
        "id": "9cfntXHDjlt4",
        "outputId": "eaa12c97-9155-4c91-959e-5a1da233c657"
      },
      "execution_count": null,
      "outputs": [
        {
          "output_type": "stream",
          "name": "stdout",
          "text": [
            "Ford\n"
          ]
        }
      ]
    },
    {
      "cell_type": "markdown",
      "source": [
        "# **Program 1: Accept words and display unique ones in the input order**"
      ],
      "metadata": {
        "id": "xgLVZCWKkDrD"
      }
    },
    {
      "cell_type": "code",
      "source": [
        "unique_words = set()\n",
        "ordered_words = []\n",
        "\n",
        "print(\"Enter words (press Enter on a blank line to finish):\")\n",
        "while True:\n",
        "    word = input().strip()\n",
        "    if word == \"\":\n",
        "        break\n",
        "    if word not in unique_words:\n",
        "        unique_words.add(word)\n",
        "        ordered_words.append(word)\n",
        "\n",
        "print(\"Output:\")\n",
        "for word in ordered_words:\n",
        "    print(word)\n"
      ],
      "metadata": {
        "colab": {
          "base_uri": "https://localhost:8080/"
        },
        "id": "I8MnLu3ujvSU",
        "outputId": "41157f85-7936-42c1-974e-e68a44c43835"
      },
      "execution_count": null,
      "outputs": [
        {
          "output_type": "stream",
          "name": "stdout",
          "text": [
            "Enter words (press Enter on a blank line to finish):\n",
            "red\n",
            "black\n",
            "red\n",
            "orange\n",
            "\n",
            "Output:\n",
            "red\n",
            "black\n",
            "orange\n"
          ]
        }
      ]
    },
    {
      "cell_type": "markdown",
      "source": [
        "# **Program 2: Create and sort a dictionary from two lists**"
      ],
      "metadata": {
        "id": "boshUTAKkxIA"
      }
    },
    {
      "cell_type": "code",
      "source": [
        "print(\"Enter the elements of List 1 (comma-separated):\")\n",
        "list1 = input().split(\",\")\n",
        "print(\"Enter the elements of List 2 (comma-separated):\")\n",
        "list2 = input().split(\",\")\n",
        "\n",
        "if len(list1) != len(list2):\n",
        "    print(\"Error: The lists must have the same length!\")\n",
        "else:\n",
        "    dictionary = dict(zip(map(str.strip, list1), map(str.strip, list2)))\n",
        "    print(\"\\nOriginal Dictionary:\")\n",
        "    print(dictionary)\n",
        "\n",
        "    print(\"\\nSort by (type 'key' or 'value'):\")\n",
        "    sort_criteria = input().strip().lower()\n",
        "    print(\"Sort order (type 'asc' for ascending or 'desc' for descending):\")\n",
        "    sort_order = input().strip().lower()\n",
        "\n",
        "    reverse_order = sort_order == \"desc\"\n",
        "\n",
        "    if sort_criteria == \"key\":\n",
        "        sorted_dict = dict(sorted(dictionary.items(), key=lambda x: x[0], reverse=reverse_order))\n",
        "    elif sort_criteria == \"value\":\n",
        "        sorted_dict = dict(sorted(dictionary.items(), key=lambda x: x[1], reverse=reverse_order))\n",
        "    else:\n",
        "        print(\"Error: Invalid sorting criteria!\")\n",
        "        sorted_dict = None\n",
        "\n",
        "    if sorted_dict:\n",
        "        print(\"\\nSorted Dictionary:\")\n",
        "        print(sorted_dict)\n"
      ],
      "metadata": {
        "colab": {
          "base_uri": "https://localhost:8080/"
        },
        "id": "e0pWv__3kYwm",
        "outputId": "a53ee25e-1a6b-43ac-bbe8-c6b37e503b75"
      },
      "execution_count": null,
      "outputs": [
        {
          "output_type": "stream",
          "name": "stdout",
          "text": [
            "Enter the elements of List 1 (comma-separated):\n",
            "blue,orange,purple,white,black\n",
            "Enter the elements of List 2 (comma-separated):\n",
            "30,70,65,90,78\n",
            "\n",
            "Original Dictionary:\n",
            "{'blue': '30', 'orange': '70', 'purple': '65', 'white': '90', 'black': '78'}\n",
            "\n",
            "Sort by (type 'key' or 'value'):\n",
            "key\n",
            "Sort order (type 'asc' for ascending or 'desc' for descending):\n",
            "desc\n",
            "\n",
            "Sorted Dictionary:\n",
            "{'white': '90', 'purple': '65', 'orange': '70', 'blue': '30', 'black': '78'}\n"
          ]
        }
      ]
    },
    {
      "cell_type": "code",
      "source": [],
      "metadata": {
        "id": "muSJ-veSk5pN"
      },
      "execution_count": null,
      "outputs": []
    }
  ]
}