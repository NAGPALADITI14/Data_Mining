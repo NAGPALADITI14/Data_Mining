{
  "nbformat": 4,
  "nbformat_minor": 0,
  "metadata": {
    "colab": {
      "provenance": [],
      "authorship_tag": "ABX9TyNxbO6n2rxtaSOHs3TL8OGx",
      "include_colab_link": true
    },
    "kernelspec": {
      "name": "python3",
      "display_name": "Python 3"
    },
    "language_info": {
      "name": "python"
    }
  },
  "cells": [
    {
      "cell_type": "markdown",
      "metadata": {
        "id": "view-in-github",
        "colab_type": "text"
      },
      "source": [
        "<a href=\"https://colab.research.google.com/github/NAGPALADITI14/Data_Mining/blob/main/Pandas2.ipynb\" target=\"_parent\"><img src=\"https://colab.research.google.com/assets/colab-badge.svg\" alt=\"Open In Colab\"/></a>"
      ]
    },
    {
      "cell_type": "code",
      "source": [
        "import pandas as pd\n",
        "import numpy as np\n",
        "\n",
        "data={\n",
        "    'Col1': np.random.randint(1,100,10),\n",
        "    'Col2': np.random.uniform(0,1,10),\n",
        "    'Col3': np.random.normal(0,1,10)\n",
        "}\n",
        "df=pd.DataFrame(data)\n",
        "print(\"The Original Dataframe is:\\n\",df)"
      ],
      "metadata": {
        "colab": {
          "base_uri": "https://localhost:8080/"
        },
        "id": "R_coDFmv4-SU",
        "outputId": "a3c81260-2a5b-4cb0-d25d-fa31bc7ce320"
      },
      "execution_count": null,
      "outputs": [
        {
          "output_type": "stream",
          "name": "stdout",
          "text": [
            "The Original Dataframe is:\n",
            "    Col1      Col2      Col3\n",
            "0    78  0.379160  0.801086\n",
            "1    31  0.604033  2.133495\n",
            "2    15  0.256125  0.794145\n",
            "3    46  0.705086  0.772927\n",
            "4    33  0.284304 -0.080709\n",
            "5    49  0.196882 -1.854955\n",
            "6    29  0.662933 -0.726364\n",
            "7    36  0.445990 -1.095612\n",
            "8    19  0.705866 -1.176423\n",
            "9    92  0.936668  0.622943\n"
          ]
        }
      ]
    },
    {
      "cell_type": "markdown",
      "source": [
        "# **Window Functions**"
      ],
      "metadata": {
        "id": "CCh8LxiK34td"
      }
    },
    {
      "cell_type": "code",
      "source": [
        "# Creating a DataFrame with sample data\n",
        "data = {\n",
        "    \"Employee\": [\"Alice\", \"Bob\", \"Charlie\", \"David\", \"Eve\", \"Frank\", \"Grace\", \"Hank\"],\n",
        "    \"Department\": [\"HR\", \"IT\", \"HR\", \"IT\", \"Finance\", \"Finance\", \"HR\", \"IT\"],\n",
        "    \"Salary\": [50000, 60000, 55000, 70000, 75000, 80000, 52000, 72000],\n",
        "    \"Experience\": [2, 5, 3, 7, 10, 12, 1, 6]\n",
        "}\n",
        "df = pd.DataFrame(data)\n",
        "print(\"Original DataFrame:\")\n",
        "print(df, \"\\n\")\n",
        "\n",
        "# Rolling window - calculating moving average of Salary\n",
        "df[\"Salary_Moving_Avg\"] = df[\"Salary\"].rolling(window=3).mean()\n",
        "print(\"DataFrame with Moving Average of Salary:\")\n",
        "print(df, \"\\n\")\n",
        "\n",
        "# Expanding window - cumulative sum of Experience\n",
        "df[\"Cumulative_Experience\"] = df[\"Experience\"].expanding().sum()\n",
        "print(\"DataFrame with Cumulative Sum of Experience:\")\n",
        "print(df, \"\\n\")\n",
        "\n",
        "# Applying an Aggregation using Rolling Window\n",
        "df[\"Salary_Rolling_Max\"] = df[\"Salary\"].rolling(window=3).max()\n",
        "print(\"DataFrame with Rolling Max Salary:\")\n",
        "print(df, \"\\n\")\n",
        "\n",
        "# Grouped rolling window - moving average per Department\n",
        "df[\"Dept_Salary_Moving_Avg\"] = df.groupby(\"Department\")[\"Salary\"].rolling(window=2).mean().reset_index(level=0, drop=True)\n",
        "print(\"DataFrame with Department-wise Moving Average of Salary:\")\n",
        "print(df, \"\\n\")\n",
        "\n",
        "# Exponential Weighted Moving Average (EWMA)\n",
        "df[\"Salary_EWMA\"] = df[\"Salary\"].ewm(span=3, adjust=False).mean()\n",
        "print(\"DataFrame with Exponential Weighted Moving Average of Salary:\")\n",
        "print(df, \"\\n\")\n",
        "\n",
        "print(\"All pandas window functions executed successfully!\")\n"
      ],
      "metadata": {
        "colab": {
          "base_uri": "https://localhost:8080/"
        },
        "id": "-CEdSJ9I5-P_",
        "outputId": "0e630a50-20f4-48bb-f91c-63f4bcead9fe"
      },
      "execution_count": null,
      "outputs": [
        {
          "output_type": "stream",
          "name": "stdout",
          "text": [
            "Original DataFrame:\n",
            "  Employee Department  Salary  Experience\n",
            "0    Alice         HR   50000           2\n",
            "1      Bob         IT   60000           5\n",
            "2  Charlie         HR   55000           3\n",
            "3    David         IT   70000           7\n",
            "4      Eve    Finance   75000          10\n",
            "5    Frank    Finance   80000          12\n",
            "6    Grace         HR   52000           1\n",
            "7     Hank         IT   72000           6 \n",
            "\n",
            "DataFrame with Moving Average of Salary:\n",
            "  Employee Department  Salary  Experience  Salary_Moving_Avg\n",
            "0    Alice         HR   50000           2                NaN\n",
            "1      Bob         IT   60000           5                NaN\n",
            "2  Charlie         HR   55000           3       55000.000000\n",
            "3    David         IT   70000           7       61666.666667\n",
            "4      Eve    Finance   75000          10       66666.666667\n",
            "5    Frank    Finance   80000          12       75000.000000\n",
            "6    Grace         HR   52000           1       69000.000000\n",
            "7     Hank         IT   72000           6       68000.000000 \n",
            "\n",
            "DataFrame with Cumulative Sum of Experience:\n",
            "  Employee Department  Salary  Experience  Salary_Moving_Avg  \\\n",
            "0    Alice         HR   50000           2                NaN   \n",
            "1      Bob         IT   60000           5                NaN   \n",
            "2  Charlie         HR   55000           3       55000.000000   \n",
            "3    David         IT   70000           7       61666.666667   \n",
            "4      Eve    Finance   75000          10       66666.666667   \n",
            "5    Frank    Finance   80000          12       75000.000000   \n",
            "6    Grace         HR   52000           1       69000.000000   \n",
            "7     Hank         IT   72000           6       68000.000000   \n",
            "\n",
            "   Cumulative_Experience  \n",
            "0                    2.0  \n",
            "1                    7.0  \n",
            "2                   10.0  \n",
            "3                   17.0  \n",
            "4                   27.0  \n",
            "5                   39.0  \n",
            "6                   40.0  \n",
            "7                   46.0   \n",
            "\n",
            "DataFrame with Rolling Max Salary:\n",
            "  Employee Department  Salary  Experience  Salary_Moving_Avg  \\\n",
            "0    Alice         HR   50000           2                NaN   \n",
            "1      Bob         IT   60000           5                NaN   \n",
            "2  Charlie         HR   55000           3       55000.000000   \n",
            "3    David         IT   70000           7       61666.666667   \n",
            "4      Eve    Finance   75000          10       66666.666667   \n",
            "5    Frank    Finance   80000          12       75000.000000   \n",
            "6    Grace         HR   52000           1       69000.000000   \n",
            "7     Hank         IT   72000           6       68000.000000   \n",
            "\n",
            "   Cumulative_Experience  Salary_Rolling_Max  \n",
            "0                    2.0                 NaN  \n",
            "1                    7.0                 NaN  \n",
            "2                   10.0             60000.0  \n",
            "3                   17.0             70000.0  \n",
            "4                   27.0             75000.0  \n",
            "5                   39.0             80000.0  \n",
            "6                   40.0             80000.0  \n",
            "7                   46.0             80000.0   \n",
            "\n",
            "DataFrame with Department-wise Moving Average of Salary:\n",
            "  Employee Department  Salary  Experience  Salary_Moving_Avg  \\\n",
            "0    Alice         HR   50000           2                NaN   \n",
            "1      Bob         IT   60000           5                NaN   \n",
            "2  Charlie         HR   55000           3       55000.000000   \n",
            "3    David         IT   70000           7       61666.666667   \n",
            "4      Eve    Finance   75000          10       66666.666667   \n",
            "5    Frank    Finance   80000          12       75000.000000   \n",
            "6    Grace         HR   52000           1       69000.000000   \n",
            "7     Hank         IT   72000           6       68000.000000   \n",
            "\n",
            "   Cumulative_Experience  Salary_Rolling_Max  Dept_Salary_Moving_Avg  \n",
            "0                    2.0                 NaN                     NaN  \n",
            "1                    7.0                 NaN                     NaN  \n",
            "2                   10.0             60000.0                 52500.0  \n",
            "3                   17.0             70000.0                 65000.0  \n",
            "4                   27.0             75000.0                     NaN  \n",
            "5                   39.0             80000.0                 77500.0  \n",
            "6                   40.0             80000.0                 53500.0  \n",
            "7                   46.0             80000.0                 71000.0   \n",
            "\n",
            "DataFrame with Exponential Weighted Moving Average of Salary:\n",
            "  Employee Department  Salary  Experience  Salary_Moving_Avg  \\\n",
            "0    Alice         HR   50000           2                NaN   \n",
            "1      Bob         IT   60000           5                NaN   \n",
            "2  Charlie         HR   55000           3       55000.000000   \n",
            "3    David         IT   70000           7       61666.666667   \n",
            "4      Eve    Finance   75000          10       66666.666667   \n",
            "5    Frank    Finance   80000          12       75000.000000   \n",
            "6    Grace         HR   52000           1       69000.000000   \n",
            "7     Hank         IT   72000           6       68000.000000   \n",
            "\n",
            "   Cumulative_Experience  Salary_Rolling_Max  Dept_Salary_Moving_Avg  \\\n",
            "0                    2.0                 NaN                     NaN   \n",
            "1                    7.0                 NaN                     NaN   \n",
            "2                   10.0             60000.0                 52500.0   \n",
            "3                   17.0             70000.0                 65000.0   \n",
            "4                   27.0             75000.0                     NaN   \n",
            "5                   39.0             80000.0                 77500.0   \n",
            "6                   40.0             80000.0                 53500.0   \n",
            "7                   46.0             80000.0                 71000.0   \n",
            "\n",
            "   Salary_EWMA  \n",
            "0     50000.00  \n",
            "1     55000.00  \n",
            "2     55000.00  \n",
            "3     62500.00  \n",
            "4     68750.00  \n",
            "5     74375.00  \n",
            "6     63187.50  \n",
            "7     67593.75   \n",
            "\n",
            "All pandas window functions executed successfully!\n"
          ]
        }
      ]
    },
    {
      "cell_type": "markdown",
      "source": [
        "# **Aggregations**"
      ],
      "metadata": {
        "id": "7LgnCFCt39yY"
      }
    },
    {
      "cell_type": "code",
      "source": [
        "print(\"Original DataFrame:\\n\",df)\n",
        "\n",
        "#Applying Aggregations on DataFrame Rows\n",
        "print(\"Aggregated Data:\\n\",df.agg(['sum','min','max']))\n",
        "\n",
        "#Applying different functions per columns\n",
        "print(\"Aggregated Data:\\n\",df.agg({'Col1':['sum','min','max'],'Col2':['min','sum']}))"
      ],
      "metadata": {
        "colab": {
          "base_uri": "https://localhost:8080/"
        },
        "id": "x-h_ARU89y7r",
        "outputId": "70b8fcaa-92d6-4f74-c279-2ce97a649dd8"
      },
      "execution_count": null,
      "outputs": [
        {
          "output_type": "stream",
          "name": "stdout",
          "text": [
            "Original DataFrame:\n",
            "    Col1      Col2      Col3\n",
            "0    78  0.379160  0.801086\n",
            "1    31  0.604033  2.133495\n",
            "2    15  0.256125  0.794145\n",
            "3    46  0.705086  0.772927\n",
            "4    33  0.284304 -0.080709\n",
            "5    49  0.196882 -1.854955\n",
            "6    29  0.662933 -0.726364\n",
            "7    36  0.445990 -1.095612\n",
            "8    19  0.705866 -1.176423\n",
            "9    92  0.936668  0.622943\n",
            "Aggregated Data:\n",
            "      Col1      Col2      Col3\n",
            "sum   428  5.177048  0.190533\n",
            "min    15  0.196882 -1.854955\n",
            "max    92  0.936668  2.133495\n",
            "Aggregated Data:\n",
            "      Col1      Col2\n",
            "sum   428  5.177048\n",
            "min    15  0.196882\n",
            "max    92       NaN\n"
          ]
        }
      ]
    },
    {
      "cell_type": "markdown",
      "source": [
        "# **Missing data**"
      ],
      "metadata": {
        "id": "ywZmbkVs4B5w"
      }
    },
    {
      "cell_type": "code",
      "source": [
        "# Creating a DataFrame with missing values\n",
        "data = {\n",
        "    \"ID\": [1, 2, 3, 4, 5],\n",
        "    \"Name\": [\"Alice\", \"Bob\", np.nan, \"David\", \"Eve\"],\n",
        "    \"Age\": [25, np.nan, 30, 35, np.nan],\n",
        "    \"Salary\": [50000, 60000, 70000, np.nan, 90000]\n",
        "}\n",
        "df = pd.DataFrame(data)\n",
        "print(\"Original DataFrame with Missing Values:\")\n",
        "print(df, \"\\n\")\n",
        "\n",
        "# Detecting Missing Values\n",
        "df_missing = df.isnull()\n",
        "print(\"Missing Value Detection:\")\n",
        "print(df_missing, \"\\n\")\n",
        "\n",
        "# Filling Missing Values with a Specific Value\n",
        "df_filled = df.fillna(value={\"Name\": \"Unknown\", \"Age\": df[\"Age\"].mean(), \"Salary\": 0})\n",
        "print(\"DataFrame after Filling Missing Values:\")\n",
        "print(df_filled, \"\\n\")\n",
        "\n",
        "# Dropping Rows with Missing Values\n",
        "df_dropped_rows = df.dropna()\n",
        "print(\"DataFrame after Dropping Rows with Missing Values:\")\n",
        "print(df_dropped_rows, \"\\n\")\n",
        "\n",
        "# Dropping Columns with Missing Values\n",
        "df_dropped_cols = df.dropna(axis=1)\n",
        "print(\"DataFrame after Dropping Columns with Missing Values:\")\n",
        "print(df_dropped_cols, \"\\n\")\n",
        "\n",
        "# Forward Fill (Propagate previous value forward)\n",
        "df_ffill = df.fillna(method='ffill')\n",
        "print(\"DataFrame after Forward Fill:\")\n",
        "print(df_ffill, \"\\n\")\n",
        "\n",
        "# Backward Fill (Propagate next value backward)\n",
        "df_bfill = df.fillna(method='bfill')\n",
        "print(\"DataFrame after Backward Fill:\")\n",
        "print(df_bfill, \"\\n\")\n",
        "\n",
        "# Interpolating Missing Values\n",
        "df_interpolated = df.interpolate()\n",
        "print(\"DataFrame after Interpolation:\")\n",
        "print(df_interpolated, \"\\n\")\n",
        "\n",
        "print(\"All pandas missing data operations executed successfully!\")\n"
      ],
      "metadata": {
        "colab": {
          "base_uri": "https://localhost:8080/"
        },
        "id": "tBL2sP_BWpJk",
        "outputId": "5b75a82e-cdc1-40a4-ce24-43e3cb9c485f"
      },
      "execution_count": null,
      "outputs": [
        {
          "output_type": "stream",
          "name": "stdout",
          "text": [
            "Original DataFrame with Missing Values:\n",
            "   ID   Name   Age   Salary\n",
            "0   1  Alice  25.0  50000.0\n",
            "1   2    Bob   NaN  60000.0\n",
            "2   3    NaN  30.0  70000.0\n",
            "3   4  David  35.0      NaN\n",
            "4   5    Eve   NaN  90000.0 \n",
            "\n",
            "Missing Value Detection:\n",
            "      ID   Name    Age  Salary\n",
            "0  False  False  False   False\n",
            "1  False  False   True   False\n",
            "2  False   True  False   False\n",
            "3  False  False  False    True\n",
            "4  False  False   True   False \n",
            "\n",
            "DataFrame after Filling Missing Values:\n",
            "   ID     Name   Age   Salary\n",
            "0   1    Alice  25.0  50000.0\n",
            "1   2      Bob  30.0  60000.0\n",
            "2   3  Unknown  30.0  70000.0\n",
            "3   4    David  35.0      0.0\n",
            "4   5      Eve  30.0  90000.0 \n",
            "\n",
            "DataFrame after Dropping Rows with Missing Values:\n",
            "   ID   Name   Age   Salary\n",
            "0   1  Alice  25.0  50000.0 \n",
            "\n",
            "DataFrame after Dropping Columns with Missing Values:\n",
            "   ID\n",
            "0   1\n",
            "1   2\n",
            "2   3\n",
            "3   4\n",
            "4   5 \n",
            "\n",
            "DataFrame after Forward Fill:\n",
            "   ID   Name   Age   Salary\n",
            "0   1  Alice  25.0  50000.0\n",
            "1   2    Bob  25.0  60000.0\n",
            "2   3    Bob  30.0  70000.0\n",
            "3   4  David  35.0  70000.0\n",
            "4   5    Eve  35.0  90000.0 \n",
            "\n",
            "DataFrame after Backward Fill:\n",
            "   ID   Name   Age   Salary\n",
            "0   1  Alice  25.0  50000.0\n",
            "1   2    Bob  30.0  60000.0\n",
            "2   3  David  30.0  70000.0\n",
            "3   4  David  35.0  90000.0\n",
            "4   5    Eve   NaN  90000.0 \n",
            "\n",
            "DataFrame after Interpolation:\n",
            "   ID   Name   Age   Salary\n",
            "0   1  Alice  25.0  50000.0\n",
            "1   2    Bob  27.5  60000.0\n",
            "2   3    NaN  30.0  70000.0\n",
            "3   4  David  35.0  80000.0\n",
            "4   5    Eve  35.0  90000.0 \n",
            "\n",
            "All pandas missing data operations executed successfully!\n"
          ]
        },
        {
          "output_type": "stream",
          "name": "stderr",
          "text": [
            "<ipython-input-12-fdd8f40c4b93>:36: FutureWarning: DataFrame.fillna with 'method' is deprecated and will raise in a future version. Use obj.ffill() or obj.bfill() instead.\n",
            "  df_ffill = df.fillna(method='ffill')\n",
            "<ipython-input-12-fdd8f40c4b93>:41: FutureWarning: DataFrame.fillna with 'method' is deprecated and will raise in a future version. Use obj.ffill() or obj.bfill() instead.\n",
            "  df_bfill = df.fillna(method='bfill')\n",
            "<ipython-input-12-fdd8f40c4b93>:46: FutureWarning: DataFrame.interpolate with object dtype is deprecated and will raise in a future version. Call obj.infer_objects(copy=False) before interpolating instead.\n",
            "  df_interpolated = df.interpolate()\n"
          ]
        }
      ]
    },
    {
      "cell_type": "markdown",
      "source": [
        "# **GroupBY**"
      ],
      "metadata": {
        "id": "RHfRaXij4EUK"
      }
    },
    {
      "cell_type": "code",
      "source": [
        "import pandas as pd\n",
        "import numpy as np\n",
        "\n",
        "# Creating a DataFrame with sample data\n",
        "data = {\n",
        "    \"Department\": [\"HR\", \"IT\", \"HR\", \"IT\", \"Finance\", \"Finance\", \"HR\", \"IT\"],\n",
        "    \"Employee\": [\"Alice\", \"Bob\", \"Charlie\", \"David\", \"Eve\", \"Frank\", \"Grace\", \"Hank\"],\n",
        "    \"Salary\": [50000, 60000, 55000, 70000, 75000, 80000, 52000, 72000],\n",
        "    \"Experience\": [2, 5, 3, 7, 10, 12, 1, 6]\n",
        "}\n",
        "df = pd.DataFrame(data)\n",
        "print(\"Original DataFrame:\")\n",
        "print(df, \"\\n\")\n",
        "\n",
        "# Grouping by Department and calculating mean salary\n",
        "df_grouped_salary = df.groupby(\"Department\")[\"Salary\"].mean()\n",
        "print(\"Average Salary by Department:\")\n",
        "print(df_grouped_salary, \"\\n\")\n",
        "\n",
        "# Grouping by Department and calculating sum of experience\n",
        "df_grouped_experience = df.groupby(\"Department\")[\"Experience\"].sum()\n",
        "print(\"Total Experience by Department:\")\n",
        "print(df_grouped_experience, \"\\n\")\n",
        "\n",
        "# Grouping by Department and getting multiple aggregations\n",
        "df_grouped_multi = df.groupby(\"Department\").agg({\"Salary\": [\"mean\", \"max\", \"min\"], \"Experience\": [\"sum\", \"mean\"]})\n",
        "print(\"Aggregated Data by Department:\")\n",
        "print(df_grouped_multi, \"\\n\")\n",
        "\n",
        "# Grouping by multiple columns\n",
        "df_grouped_multi_col = df.groupby([\"Department\", \"Experience\"]).sum()\n",
        "print(\"Grouped by Department and Experience:\")\n",
        "print(df_grouped_multi_col, \"\\n\")\n",
        "\n",
        "# Using groupby with transform to add a column\n",
        "df[\"Avg_Salary_by_Dept\"] = df.groupby(\"Department\")[\"Salary\"].transform(\"mean\")\n",
        "print(\"DataFrame with Average Salary per Department added:\")\n",
        "print(df, \"\\n\")\n",
        "\n",
        "print(\"All pandas groupby operations executed successfully!\")"
      ],
      "metadata": {
        "colab": {
          "base_uri": "https://localhost:8080/"
        },
        "id": "RmgiYyqpWyWj",
        "outputId": "17cf6285-8fd9-481d-b717-71d7318b8ac7"
      },
      "execution_count": null,
      "outputs": [
        {
          "output_type": "stream",
          "name": "stdout",
          "text": [
            "Original DataFrame:\n",
            "  Department Employee  Salary  Experience\n",
            "0         HR    Alice   50000           2\n",
            "1         IT      Bob   60000           5\n",
            "2         HR  Charlie   55000           3\n",
            "3         IT    David   70000           7\n",
            "4    Finance      Eve   75000          10\n",
            "5    Finance    Frank   80000          12\n",
            "6         HR    Grace   52000           1\n",
            "7         IT     Hank   72000           6 \n",
            "\n",
            "Average Salary by Department:\n",
            "Department\n",
            "Finance    77500.000000\n",
            "HR         52333.333333\n",
            "IT         67333.333333\n",
            "Name: Salary, dtype: float64 \n",
            "\n",
            "Total Experience by Department:\n",
            "Department\n",
            "Finance    22\n",
            "HR          6\n",
            "IT         18\n",
            "Name: Experience, dtype: int64 \n",
            "\n",
            "Aggregated Data by Department:\n",
            "                  Salary               Experience      \n",
            "                    mean    max    min        sum  mean\n",
            "Department                                             \n",
            "Finance     77500.000000  80000  75000         22  11.0\n",
            "HR          52333.333333  55000  50000          6   2.0\n",
            "IT          67333.333333  72000  60000         18   6.0 \n",
            "\n",
            "Grouped by Department and Experience:\n",
            "                      Employee  Salary\n",
            "Department Experience                 \n",
            "Finance    10              Eve   75000\n",
            "           12            Frank   80000\n",
            "HR         1             Grace   52000\n",
            "           2             Alice   50000\n",
            "           3           Charlie   55000\n",
            "IT         5               Bob   60000\n",
            "           6              Hank   72000\n",
            "           7             David   70000 \n",
            "\n",
            "DataFrame with Average Salary per Department added:\n",
            "  Department Employee  Salary  Experience  Avg_Salary_by_Dept\n",
            "0         HR    Alice   50000           2        52333.333333\n",
            "1         IT      Bob   60000           5        67333.333333\n",
            "2         HR  Charlie   55000           3        52333.333333\n",
            "3         IT    David   70000           7        67333.333333\n",
            "4    Finance      Eve   75000          10        77500.000000\n",
            "5    Finance    Frank   80000          12        77500.000000\n",
            "6         HR    Grace   52000           1        52333.333333\n",
            "7         IT     Hank   72000           6        67333.333333 \n",
            "\n",
            "All pandas groupby operations executed successfully!\n"
          ]
        }
      ]
    },
    {
      "cell_type": "markdown",
      "source": [
        "# **Merging/Joining**"
      ],
      "metadata": {
        "id": "v0nLZ1jg4GtP"
      }
    },
    {
      "cell_type": "code",
      "source": [
        "left = pd.DataFrame({\n",
        "'id': [1, 2, 3, 4, 5],\n",
        "'Name': ['Alex', 'Amy', 'Allen', 'Alice', 'Ayoung'],\n",
        "'subject_id': ['sub1', 'sub2', 'sub4', 'sub6', 'sub5']\n",
        "})\n",
        "\n",
        "# Creating the second DataFrame\n",
        "right = pd.DataFrame({\n",
        "'id': [1, 2, 3, 4, 5],\n",
        "'Name': ['Billy', 'Brian', 'Bran', 'Bryce', 'Betty'],\n",
        "'subject_id': ['sub2', 'sub4', 'sub3', 'sub6', 'sub5']\n",
        "})\n",
        "\n",
        "print(\"Left DataFrame:\")\n",
        "print(left)\n",
        "print(\"\\nRight DataFrame:\")\n",
        "print(right)\n",
        "\n",
        "\n",
        "# Merging DataFrames on a key 'id'\n",
        "result = left.merge(right, on='id')\n",
        "print(result)\n",
        "\n",
        "\n",
        "# Merging on multiple keys 'id' and 'subject_id'\n",
        "result = left.merge(right, on=['id', 'subject_id'])\n",
        "print(result)"
      ],
      "metadata": {
        "colab": {
          "base_uri": "https://localhost:8080/"
        },
        "id": "IF7T_iPGT8wk",
        "outputId": "14f0fec2-feb6-4f47-c854-fe4d298707c0"
      },
      "execution_count": null,
      "outputs": [
        {
          "output_type": "stream",
          "name": "stdout",
          "text": [
            "Left DataFrame:\n",
            "   id    Name subject_id\n",
            "0   1    Alex       sub1\n",
            "1   2     Amy       sub2\n",
            "2   3   Allen       sub4\n",
            "3   4   Alice       sub6\n",
            "4   5  Ayoung       sub5\n",
            "\n",
            "Right DataFrame:\n",
            "   id   Name subject_id\n",
            "0   1  Billy       sub2\n",
            "1   2  Brian       sub4\n",
            "2   3   Bran       sub3\n",
            "3   4  Bryce       sub6\n",
            "4   5  Betty       sub5\n",
            "   id  Name_x subject_id_x Name_y subject_id_y\n",
            "0   1    Alex         sub1  Billy         sub2\n",
            "1   2     Amy         sub2  Brian         sub4\n",
            "2   3   Allen         sub4   Bran         sub3\n",
            "3   4   Alice         sub6  Bryce         sub6\n",
            "4   5  Ayoung         sub5  Betty         sub5\n",
            "   id  Name_x subject_id Name_y\n",
            "0   4   Alice       sub6  Bryce\n",
            "1   5  Ayoung       sub5  Betty\n"
          ]
        }
      ]
    },
    {
      "cell_type": "markdown",
      "source": [
        "# **Concatenation**"
      ],
      "metadata": {
        "id": "dq3N_Q1p4KWl"
      }
    },
    {
      "cell_type": "code",
      "source": [
        "# Creating Sample DataFrames\n",
        "data1 = {\n",
        "    \"ID\": [1, 2, 3],\n",
        "    \"Name\": [\"Alice\", \"Bob\", \"Charlie\"],\n",
        "    \"Age\": [25, 30, 35]\n",
        "}\n",
        "data2 = {\n",
        "    \"ID\": [4, 5, 6],\n",
        "    \"Name\": [\"David\", \"Eve\", \"Frank\"],\n",
        "    \"Age\": [40, 45, 50]\n",
        "}\n",
        "df1 = pd.DataFrame(data1)\n",
        "df2 = pd.DataFrame(data2)\n",
        "print(\"DataFrame 1:\")\n",
        "print(df1, \"\\n\")\n",
        "print(\"DataFrame 2:\")\n",
        "print(df2, \"\\n\")\n",
        "\n",
        "# Concatenation along rows (axis=0)\n",
        "df_concat_rows = pd.concat([df1, df2], axis=0, ignore_index=True)\n",
        "print(\"Concatenated DataFrame (Rows):\")\n",
        "print(df_concat_rows, \"\\n\")\n",
        "\n",
        "# Creating DataFrames with different columns\n",
        "data3 = {\n",
        "    \"ID\": [1, 2, 3],\n",
        "    \"Salary\": [50000, 60000, 70000]\n",
        "}\n",
        "df3 = pd.DataFrame(data3)\n",
        "print(\"DataFrame 3 (Different Columns):\")\n",
        "print(df3, \"\\n\")\n",
        "\n",
        "# Concatenation along columns (axis=1)\n",
        "df_concat_cols = pd.concat([df1, df3], axis=1)\n",
        "print(\"Concatenated DataFrame (Columns):\")\n",
        "print(df_concat_cols, \"\\n\")\n",
        "\n",
        "# Concatenation with different column sets\n",
        "data4 = {\n",
        "    \"ID\": [4, 5, 6],\n",
        "    \"Salary\": [75000, 80000, 85000]\n",
        "}\n",
        "df4 = pd.DataFrame(data4)\n",
        "print(\"DataFrame 4 (Additional Data with Different Columns):\")\n",
        "print(df4, \"\\n\")\n",
        "\n",
        "df_concat_mixed = pd.concat([df1, df4], axis=0, ignore_index=True)\n",
        "print(\"Concatenated DataFrame with Different Columns:\")\n",
        "print(df_concat_mixed, \"\\n\")\n",
        "\n",
        "print(\"All pandas concatenation operations executed successfully!\")\n"
      ],
      "metadata": {
        "colab": {
          "base_uri": "https://localhost:8080/"
        },
        "id": "k8jPISs8VaQs",
        "outputId": "8bd3cb65-89da-43a5-fa83-a38f1bc5232f"
      },
      "execution_count": null,
      "outputs": [
        {
          "output_type": "stream",
          "name": "stdout",
          "text": [
            "DataFrame 1:\n",
            "   ID     Name  Age\n",
            "0   1    Alice   25\n",
            "1   2      Bob   30\n",
            "2   3  Charlie   35 \n",
            "\n",
            "DataFrame 2:\n",
            "   ID   Name  Age\n",
            "0   4  David   40\n",
            "1   5    Eve   45\n",
            "2   6  Frank   50 \n",
            "\n",
            "Concatenated DataFrame (Rows):\n",
            "   ID     Name  Age\n",
            "0   1    Alice   25\n",
            "1   2      Bob   30\n",
            "2   3  Charlie   35\n",
            "3   4    David   40\n",
            "4   5      Eve   45\n",
            "5   6    Frank   50 \n",
            "\n",
            "DataFrame 3 (Different Columns):\n",
            "   ID  Salary\n",
            "0   1   50000\n",
            "1   2   60000\n",
            "2   3   70000 \n",
            "\n",
            "Concatenated DataFrame (Columns):\n",
            "   ID     Name  Age  ID  Salary\n",
            "0   1    Alice   25   1   50000\n",
            "1   2      Bob   30   2   60000\n",
            "2   3  Charlie   35   3   70000 \n",
            "\n",
            "DataFrame 4 (Additional Data with Different Columns):\n",
            "   ID  Salary\n",
            "0   4   75000\n",
            "1   5   80000\n",
            "2   6   85000 \n",
            "\n",
            "Concatenated DataFrame with Different Columns:\n",
            "   ID     Name   Age   Salary\n",
            "0   1    Alice  25.0      NaN\n",
            "1   2      Bob  30.0      NaN\n",
            "2   3  Charlie  35.0      NaN\n",
            "3   4      NaN   NaN  75000.0\n",
            "4   5      NaN   NaN  80000.0\n",
            "5   6      NaN   NaN  85000.0 \n",
            "\n",
            "All pandas concatenation operations executed successfully!\n"
          ]
        }
      ]
    },
    {
      "cell_type": "markdown",
      "source": [
        "# **date functionality**"
      ],
      "metadata": {
        "id": "3kcHz2lv4Mu6"
      }
    },
    {
      "cell_type": "code",
      "source": [
        "import pandas as pd\n",
        "import numpy as np\n",
        "\n",
        "# Creating a DataFrame with date-related data\n",
        "data = {\n",
        "    \"ID\": [1, 2, 3],\n",
        "    \"Date\": pd.to_datetime([\"2025-03-01\", \"2025-03-10\", \"2025-03-20\"])\n",
        "}\n",
        "df = pd.DataFrame(data)\n",
        "print(\"Original DataFrame:\")\n",
        "print(df, \"\\n\")\n",
        "\n",
        "# Extracting Year, Month, and Day\n",
        "df[\"Year\"] = df[\"Date\"].dt.year\n",
        "df[\"Month\"] = df[\"Date\"].dt.month\n",
        "df[\"Day\"] = df[\"Date\"].dt.day\n",
        "print(\"DataFrame with Extracted Year, Month, and Day:\")\n",
        "print(df, \"\\n\")\n",
        "\n",
        "# Extracting Day of the Week\n",
        "df[\"Day_of_Week\"] = df[\"Date\"].dt.day_name()\n",
        "print(\"DataFrame with Day of the Week:\")\n",
        "print(df, \"\\n\")\n",
        "\n",
        "# Adding a Date Offset (Adding 7 days)\n",
        "df[\"Date_After_7_Days\"] = df[\"Date\"] + pd.DateOffset(days=7)\n",
        "print(\"DataFrame after Adding 7 Days:\")\n",
        "print(df, \"\\n\")\n",
        "\n",
        "# Subtracting a Date Offset (Subtracting 3 months)\n",
        "df[\"Date_Before_3_Months\"] = df[\"Date\"] - pd.DateOffset(months=3)\n",
        "print(\"DataFrame after Subtracting 3 Months:\")\n",
        "print(df, \"\\n\")\n",
        "\n",
        "# Checking if a Date is in a Leap Year\n",
        "df[\"Is_Leap_Year\"] = df[\"Date\"].dt.is_leap_year\n",
        "print(\"DataFrame with Leap Year Check:\")\n",
        "print(df, \"\\n\")\n",
        "\n",
        "# Creating a Date Range\n",
        "date_range = pd.date_range(start=\"2025-03-01\", periods=5, freq=\"D\")\n",
        "print(\"Generated Date Range:\")\n",
        "print(date_range, \"\\n\")\n",
        "\n",
        "print(\"All pandas date functionalities executed successfully!\")\n"
      ],
      "metadata": {
        "colab": {
          "base_uri": "https://localhost:8080/"
        },
        "id": "VQBB8RKvWbT0",
        "outputId": "e2e16457-9351-4935-b3f4-76ca5a5378f6"
      },
      "execution_count": null,
      "outputs": [
        {
          "output_type": "stream",
          "name": "stdout",
          "text": [
            "Original DataFrame:\n",
            "   ID       Date\n",
            "0   1 2025-03-01\n",
            "1   2 2025-03-10\n",
            "2   3 2025-03-20 \n",
            "\n",
            "DataFrame with Extracted Year, Month, and Day:\n",
            "   ID       Date  Year  Month  Day\n",
            "0   1 2025-03-01  2025      3    1\n",
            "1   2 2025-03-10  2025      3   10\n",
            "2   3 2025-03-20  2025      3   20 \n",
            "\n",
            "DataFrame with Day of the Week:\n",
            "   ID       Date  Year  Month  Day Day_of_Week\n",
            "0   1 2025-03-01  2025      3    1    Saturday\n",
            "1   2 2025-03-10  2025      3   10      Monday\n",
            "2   3 2025-03-20  2025      3   20    Thursday \n",
            "\n",
            "DataFrame after Adding 7 Days:\n",
            "   ID       Date  Year  Month  Day Day_of_Week Date_After_7_Days\n",
            "0   1 2025-03-01  2025      3    1    Saturday        2025-03-08\n",
            "1   2 2025-03-10  2025      3   10      Monday        2025-03-17\n",
            "2   3 2025-03-20  2025      3   20    Thursday        2025-03-27 \n",
            "\n",
            "DataFrame after Subtracting 3 Months:\n",
            "   ID       Date  Year  Month  Day Day_of_Week Date_After_7_Days  \\\n",
            "0   1 2025-03-01  2025      3    1    Saturday        2025-03-08   \n",
            "1   2 2025-03-10  2025      3   10      Monday        2025-03-17   \n",
            "2   3 2025-03-20  2025      3   20    Thursday        2025-03-27   \n",
            "\n",
            "  Date_Before_3_Months  \n",
            "0           2024-12-01  \n",
            "1           2024-12-10  \n",
            "2           2024-12-20   \n",
            "\n",
            "DataFrame with Leap Year Check:\n",
            "   ID       Date  Year  Month  Day Day_of_Week Date_After_7_Days  \\\n",
            "0   1 2025-03-01  2025      3    1    Saturday        2025-03-08   \n",
            "1   2 2025-03-10  2025      3   10      Monday        2025-03-17   \n",
            "2   3 2025-03-20  2025      3   20    Thursday        2025-03-27   \n",
            "\n",
            "  Date_Before_3_Months  Is_Leap_Year  \n",
            "0           2024-12-01         False  \n",
            "1           2024-12-10         False  \n",
            "2           2024-12-20         False   \n",
            "\n",
            "Generated Date Range:\n",
            "DatetimeIndex(['2025-03-01', '2025-03-02', '2025-03-03', '2025-03-04',\n",
            "               '2025-03-05'],\n",
            "              dtype='datetime64[ns]', freq='D') \n",
            "\n",
            "All pandas date functionalities executed successfully!\n"
          ]
        }
      ]
    },
    {
      "cell_type": "markdown",
      "source": [
        "# **Timedelta**"
      ],
      "metadata": {
        "id": "O26znwxc4Plg"
      }
    },
    {
      "cell_type": "code",
      "source": [
        "import pandas as pd\n",
        "import numpy as np\n",
        "\n",
        "# Creating a DataFrame with datetime values\n",
        "data = {\n",
        "    \"ID\": [1, 2, 3],\n",
        "    \"Start_Date\": pd.to_datetime([\"2025-03-01\", \"2025-03-05\", \"2025-03-10\"]),\n",
        "    \"End_Date\": pd.to_datetime([\"2025-03-10\", \"2025-03-15\", \"2025-03-20\"])\n",
        "}\n",
        "df = pd.DataFrame(data)\n",
        "print(\"Original DataFrame:\")\n",
        "print(df, \"\\n\")\n",
        "\n",
        "# Calculating Time Difference (Timedelta)\n",
        "df[\"Duration\"] = df[\"End_Date\"] - df[\"Start_Date\"]\n",
        "print(\"DataFrame with Duration (Timedelta):\")\n",
        "print(df, \"\\n\")\n",
        "\n",
        "# Adding a timedelta of 5 days to Start_Date\n",
        "df[\"New_Start_Date\"] = df[\"Start_Date\"] + pd.Timedelta(days=5)\n",
        "print(\"DataFrame after adding 5 days to Start_Date:\")\n",
        "print(df, \"\\n\")\n",
        "\n",
        "# Subtracting a timedelta of 2 days from End_Date\n",
        "df[\"New_End_Date\"] = df[\"End_Date\"] - pd.Timedelta(days=2)\n",
        "print(\"DataFrame after subtracting 2 days from End_Date:\")\n",
        "print(df, \"\\n\")\n",
        "\n",
        "# Creating a timedelta column\n",
        "df[\"Custom_Timedelta\"] = pd.to_timedelta([\"2 days\", \"4 days\", \"6 days\"])\n",
        "print(\"DataFrame with Custom Timedelta Column:\")\n",
        "print(df, \"\\n\")\n",
        "\n",
        "print(\"All pandas timedelta operations executed successfully!\")\n"
      ],
      "metadata": {
        "colab": {
          "base_uri": "https://localhost:8080/"
        },
        "id": "r9WTlIGaVjtI",
        "outputId": "4b05e8f9-118c-467c-b207-0b3c82df675a"
      },
      "execution_count": null,
      "outputs": [
        {
          "output_type": "stream",
          "name": "stdout",
          "text": [
            "Original DataFrame:\n",
            "   ID Start_Date   End_Date\n",
            "0   1 2025-03-01 2025-03-10\n",
            "1   2 2025-03-05 2025-03-15\n",
            "2   3 2025-03-10 2025-03-20 \n",
            "\n",
            "DataFrame with Duration (Timedelta):\n",
            "   ID Start_Date   End_Date Duration\n",
            "0   1 2025-03-01 2025-03-10   9 days\n",
            "1   2 2025-03-05 2025-03-15  10 days\n",
            "2   3 2025-03-10 2025-03-20  10 days \n",
            "\n",
            "DataFrame after adding 5 days to Start_Date:\n",
            "   ID Start_Date   End_Date Duration New_Start_Date\n",
            "0   1 2025-03-01 2025-03-10   9 days     2025-03-06\n",
            "1   2 2025-03-05 2025-03-15  10 days     2025-03-10\n",
            "2   3 2025-03-10 2025-03-20  10 days     2025-03-15 \n",
            "\n",
            "DataFrame after subtracting 2 days from End_Date:\n",
            "   ID Start_Date   End_Date Duration New_Start_Date New_End_Date\n",
            "0   1 2025-03-01 2025-03-10   9 days     2025-03-06   2025-03-08\n",
            "1   2 2025-03-05 2025-03-15  10 days     2025-03-10   2025-03-13\n",
            "2   3 2025-03-10 2025-03-20  10 days     2025-03-15   2025-03-18 \n",
            "\n",
            "DataFrame with Custom Timedelta Column:\n",
            "   ID Start_Date   End_Date Duration New_Start_Date New_End_Date  \\\n",
            "0   1 2025-03-01 2025-03-10   9 days     2025-03-06   2025-03-08   \n",
            "1   2 2025-03-05 2025-03-15  10 days     2025-03-10   2025-03-13   \n",
            "2   3 2025-03-10 2025-03-20  10 days     2025-03-15   2025-03-18   \n",
            "\n",
            "  Custom_Timedelta  \n",
            "0           2 days  \n",
            "1           4 days  \n",
            "2           6 days   \n",
            "\n",
            "All pandas timedelta operations executed successfully!\n"
          ]
        }
      ]
    },
    {
      "cell_type": "markdown",
      "source": [
        "# **Categorical Data**"
      ],
      "metadata": {
        "id": "I7UvXwg54STO"
      }
    },
    {
      "cell_type": "code",
      "source": [
        "import pandas as pd\n",
        "\n",
        "# Create Series object with categorical data\n",
        "s = pd.Series([\"a\", \"b\", \"c\", \"a\"], dtype=\"category\")\n",
        "\n",
        "# Display the categorical Series\n",
        "print('Series with Categorical Data:\\n', s)\n",
        "\n",
        "\n",
        "df = pd.DataFrame({\"Col_a\": list(\"aeeioou\"), \"Col_b\": range(7)})\n",
        "\n",
        "# Display the Input DataFrame\n",
        "print('Input DataFrame:\\n',df)\n",
        "print('\\nVerify the Data type of each column:\\n', df.dtypes)\n",
        "\n",
        "# Convert the Data type of col_a to categorical\n",
        "df['Col_a'] = df[\"Col_a\"].astype(\"category\")\n",
        "\n",
        "# Display the Input DataFrame\n",
        "print('\\nConverted DataFrame:\\n',df)\n",
        "print('\\nVerify the Data type of each column:\\n', df.dtypes)"
      ],
      "metadata": {
        "colab": {
          "base_uri": "https://localhost:8080/"
        },
        "id": "_JWa5qe4UYGE",
        "outputId": "baa79527-1323-44dc-fbd9-c8f7a7d22e8b"
      },
      "execution_count": null,
      "outputs": [
        {
          "output_type": "stream",
          "name": "stdout",
          "text": [
            "Series with Categorical Data:\n",
            " 0    a\n",
            "1    b\n",
            "2    c\n",
            "3    a\n",
            "dtype: category\n",
            "Categories (3, object): ['a', 'b', 'c']\n",
            "Input DataFrame:\n",
            "   Col_a  Col_b\n",
            "0     a      0\n",
            "1     e      1\n",
            "2     e      2\n",
            "3     i      3\n",
            "4     o      4\n",
            "5     o      5\n",
            "6     u      6\n",
            "\n",
            "Verify the Data type of each column:\n",
            " Col_a    object\n",
            "Col_b     int64\n",
            "dtype: object\n",
            "\n",
            "Converted DataFrame:\n",
            "   Col_a  Col_b\n",
            "0     a      0\n",
            "1     e      1\n",
            "2     e      2\n",
            "3     i      3\n",
            "4     o      4\n",
            "5     o      5\n",
            "6     u      6\n",
            "\n",
            "Verify the Data type of each column:\n",
            " Col_a    category\n",
            "Col_b       int64\n",
            "dtype: object\n"
          ]
        }
      ]
    },
    {
      "cell_type": "markdown",
      "source": [
        "# **Visualisation**"
      ],
      "metadata": {
        "id": "3GOj4PVf4VgW"
      }
    },
    {
      "cell_type": "code",
      "source": [
        "import pandas as pd\n",
        "import numpy as np\n",
        "import matplotlib.pyplot as plt\n",
        "import seaborn as sns\n",
        "\n",
        "# Sample DataFrame\n",
        "data = {\n",
        "    \"Category\": [\"A\", \"B\", \"C\", \"D\", \"E\"],\n",
        "    \"Value1\": [10, 20, 30, 40, 50],\n",
        "    \"Value2\": [5, 15, 25, 35, 45]\n",
        "}\n",
        "df = pd.DataFrame(data)\n",
        "print(\"Original DataFrame:\")\n",
        "print(df, \"\\n\")\n",
        "\n",
        "# Line Plot\n",
        "plt.figure(figsize=(6, 4))\n",
        "plt.plot(df[\"Category\"], df[\"Value1\"], marker='o', label='Value1')\n",
        "plt.plot(df[\"Category\"], df[\"Value2\"], marker='s', label='Value2')\n",
        "plt.title(\"Line Plot\")\n",
        "plt.legend()\n",
        "plt.show()\n",
        "print(\"Displayed Line Plot\\n\")\n",
        "\n",
        "# Bar Plot\n",
        "plt.figure(figsize=(6, 4))\n",
        "sns.barplot(x=\"Category\", y=\"Value1\", data=df)\n",
        "plt.title(\"Bar Plot\")\n",
        "plt.show()\n",
        "print(\"Displayed Bar Plot\\n\")\n",
        "\n",
        "# Scatter Plot\n",
        "plt.figure(figsize=(6, 4))\n",
        "plt.scatter(df[\"Value1\"], df[\"Value2\"], color='r')\n",
        "plt.xlabel(\"Value1\")\n",
        "plt.ylabel(\"Value2\")\n",
        "plt.title(\"Scatter Plot\")\n",
        "plt.show()\n",
        "print(\"Displayed Scatter Plot\\n\")\n",
        "\n",
        "# Histogram\n",
        "plt.figure(figsize=(6, 4))\n",
        "plt.hist(df[\"Value1\"], bins=5, color='g', alpha=0.7)\n",
        "plt.title(\"Histogram\")\n",
        "plt.show()\n",
        "print(\"Displayed Histogram\\n\")\n",
        "\n",
        "# Box Plot\n",
        "plt.figure(figsize=(6, 4))\n",
        "sns.boxplot(data=df[[\"Value1\", \"Value2\"]])\n",
        "plt.title(\"Box Plot\")\n",
        "plt.show()\n",
        "print(\"Displayed Box Plot\\n\")\n",
        "\n",
        "# Pie Chart\n",
        "plt.figure(figsize=(6, 4))\n",
        "plt.pie(df[\"Value1\"], labels=df[\"Category\"], autopct='%1.1f%%')\n",
        "plt.title(\"Pie Chart\")\n",
        "plt.show()\n",
        "print(\"Displayed Pie Chart\\n\")\n",
        "\n",
        "# Heatmap\n",
        "plt.figure(figsize=(6, 4))\n",
        "sns.heatmap(df.drop(\"Category\", axis=1).corr(), annot=True, cmap=\"coolwarm\")\n",
        "plt.title(\"Heatmap\")\n",
        "plt.show()\n",
        "print(\"Displayed Heatmap\\n\")\n",
        "\n",
        "print(\"All pandas visualization operations executed successfully!\")\n"
      ],
      "metadata": {
        "colab": {
          "base_uri": "https://localhost:8080/",
          "height": 1000
        },
        "id": "7A8q4d0fVLoh",
        "outputId": "3584eb54-5746-4fdf-cc8f-850d687793ba"
      },
      "execution_count": null,
      "outputs": [
        {
          "output_type": "stream",
          "name": "stdout",
          "text": [
            "Original DataFrame:\n",
            "  Category  Value1  Value2\n",
            "0        A      10       5\n",
            "1        B      20      15\n",
            "2        C      30      25\n",
            "3        D      40      35\n",
            "4        E      50      45 \n",
            "\n"
          ]
        },
        {
          "output_type": "display_data",
          "data": {
            "text/plain": [
              "<Figure size 600x400 with 1 Axes>"
            ],
            "image/png": "[encoded data removed]"
          },
          "metadata": {}
        },
        {
          "output_type": "stream",
          "name": "stdout",
          "text": [
            "Displayed Line Plot\n",
            "\n"
          ]
        },
        {
          "output_type": "display_data",
          "data": {
            "text/plain": [
              "<Figure size 600x400 with 1 Axes>"
            ],
            "image/png": "[encoded data removed]"
          },
          "metadata": {}
        },
        {
          "output_type": "stream",
          "name": "stdout",
          "text": [
            "Displayed Bar Plot\n",
            "\n"
          ]
        },
        {
          "output_type": "display_data",
          "data": {
            "text/plain": [
              "<Figure size 600x400 with 1 Axes>"
            ],
            "image/png": "[encoded data removed]"
          },
          "metadata": {}
        },
        {
          "output_type": "stream",
          "name": "stdout",
          "text": [
            "Displayed Scatter Plot\n",
            "\n"
          ]
        },
        {
          "output_type": "display_data",
          "data": {
            "text/plain": [
              "<Figure size 600x400 with 1 Axes>"
            ],
            "image/png": "[encoded data removed]"
          },
          "metadata": {}
        },
        {
          "output_type": "stream",
          "name": "stdout",
          "text": [
            "Displayed Histogram\n",
            "\n"
          ]
        },
        {
          "output_type": "display_data",
          "data": {
            "text/plain": [
              "<Figure size 600x400 with 1 Axes>"
            ],
            "image/png": "[encoded data removed]"
          },
          "metadata": {}
        },
        {
          "output_type": "stream",
          "name": "stdout",
          "text": [
            "Displayed Box Plot\n",
            "\n"
          ]
        },
        {
          "output_type": "display_data",
          "data": {
            "text/plain": [
              "<Figure size 600x400 with 1 Axes>"
            ],
            "image/png": "[encoded data removed]"
          },
          "metadata": {}
        },
        {
          "output_type": "stream",
          "name": "stdout",
          "text": [
            "Displayed Pie Chart\n",
            "\n"
          ]
        },
        {
          "output_type": "display_data",
          "data": {
            "text/plain": [
              "<Figure size 600x400 with 2 Axes>"
            ],
            "image/png": "[encoded data removed]"
          },
          "metadata": {}
        },
        {
          "output_type": "stream",
          "name": "stdout",
          "text": [
            "Displayed Heatmap\n",
            "\n",
            "All pandas visualization operations executed successfully!\n"
          ]
        }
      ]
    },
    {
      "cell_type": "markdown",
      "source": [
        "# **Io tools**"
      ],
      "metadata": {
        "id": "5tC6K9PE4YLo"
      }
    },
    {
      "cell_type": "code",
      "source": [
        "import pandas as pd\n",
        "import numpy as np\n",
        "import sqlite3\n",
        "\n",
        "# Sample DataFrame\n",
        "data = {\n",
        "    \"ID\": [1, 2, 3],\n",
        "    \"Name\": [\"Alice\", \"Bob\", \"Charlie\"],\n",
        "    \"Age\": [25, 30, 35],\n",
        "    \"Salary\": [50000, 60000, 70000]\n",
        "}\n",
        "df = pd.DataFrame(data)\n",
        "print(\"Original DataFrame:\")\n",
        "print(df, \"\\n\")\n",
        "\n",
        "# CSV I/O\n",
        "df.to_csv(\"sample.csv\", index=False)\n",
        "print(\"DataFrame written to sample.csv\")\n",
        "df_csv = pd.read_csv(\"sample.csv\")\n",
        "print(\"DataFrame read from sample.csv:\")\n",
        "print(df_csv, \"\\n\")\n",
        "\n",
        "# Excel I/O\n",
        "df.to_excel(\"sample.xlsx\", index=False)\n",
        "print(\"DataFrame written to sample.xlsx\")\n",
        "df_excel = pd.read_excel(\"sample.xlsx\")\n",
        "print(\"DataFrame read from sample.xlsx:\")\n",
        "print(df_excel, \"\\n\")\n",
        "\n",
        "# JSON I/O\n",
        "df.to_json(\"sample.json\", orient=\"records\")\n",
        "print(\"DataFrame written to sample.json\")\n",
        "df_json = pd.read_json(\"sample.json\")\n",
        "print(\"DataFrame read from sample.json:\")\n",
        "print(df_json, \"\\n\")\n",
        "\n",
        "# HTML I/O\n",
        "df.to_html(\"sample.html\")\n",
        "print(\"DataFrame written to sample.html\")\n",
        "df_html = pd.read_html(\"sample.html\")[0]\n",
        "print(\"DataFrame read from sample.html:\")\n",
        "print(df_html, \"\\n\")\n",
        "\n",
        "# SQL I/O (Using SQLite)\n",
        "conn = sqlite3.connect(\"sample.db\")\n",
        "df.to_sql(\"employees\", conn, if_exists=\"replace\", index=False)\n",
        "print(\"DataFrame written to SQLite database (table: employees)\")\n",
        "df_sql = pd.read_sql(\"SELECT * FROM employees\", conn)\n",
        "print(\"DataFrame read from SQLite database:\")\n",
        "print(df_sql, \"\\n\")\n",
        "conn.close()\n",
        "\n",
        "print(\"All pandas I/O operations executed successfully!\")\n"
      ],
      "metadata": {
        "colab": {
          "base_uri": "https://localhost:8080/"
        },
        "id": "wVLDBdvaU4FO",
        "outputId": "0299b1b1-3563-46a7-8656-24c2f94a0ede"
      },
      "execution_count": null,
      "outputs": [
        {
          "output_type": "stream",
          "name": "stdout",
          "text": [
            "Original DataFrame:\n",
            "   ID     Name  Age  Salary\n",
            "0   1    Alice   25   50000\n",
            "1   2      Bob   30   60000\n",
            "2   3  Charlie   35   70000 \n",
            "\n",
            "DataFrame written to sample.csv\n",
            "DataFrame read from sample.csv:\n",
            "   ID     Name  Age  Salary\n",
            "0   1    Alice   25   50000\n",
            "1   2      Bob   30   60000\n",
            "2   3  Charlie   35   70000 \n",
            "\n",
            "DataFrame written to sample.xlsx\n",
            "DataFrame read from sample.xlsx:\n",
            "   ID     Name  Age  Salary\n",
            "0   1    Alice   25   50000\n",
            "1   2      Bob   30   60000\n",
            "2   3  Charlie   35   70000 \n",
            "\n",
            "DataFrame written to sample.json\n",
            "DataFrame read from sample.json:\n",
            "   ID     Name  Age  Salary\n",
            "0   1    Alice   25   50000\n",
            "1   2      Bob   30   60000\n",
            "2   3  Charlie   35   70000 \n",
            "\n",
            "DataFrame written to sample.html\n",
            "DataFrame read from sample.html:\n",
            "   Unnamed: 0  ID     Name  Age  Salary\n",
            "0           0   1    Alice   25   50000\n",
            "1           1   2      Bob   30   60000\n",
            "2           2   3  Charlie   35   70000 \n",
            "\n",
            "DataFrame written to SQLite database (table: employees)\n",
            "DataFrame read from SQLite database:\n",
            "   ID     Name  Age  Salary\n",
            "0   1    Alice   25   50000\n",
            "1   2      Bob   30   60000\n",
            "2   3  Charlie   35   70000 \n",
            "\n",
            "All pandas I/O operations executed successfully!\n"
          ]
        }
      ]
    },
    {
      "cell_type": "markdown",
      "source": [
        "# **Sparse data**"
      ],
      "metadata": {
        "id": "qWfHNfG34avv"
      }
    },
    {
      "cell_type": "code",
      "execution_count": null,
      "metadata": {
        "id": "6Xjfx9TH3uq0"
      },
      "outputs": [],
      "source": []
    }
  ]
}